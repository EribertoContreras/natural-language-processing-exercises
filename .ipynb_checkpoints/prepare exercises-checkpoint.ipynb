{
 "cells": [
  {
   "cell_type": "markdown",
   "id": "527ab14a",
   "metadata": {},
   "source": [
    "## The end result of this exercise should be a file named `prepare.py` that defines the requested functions.\n",
    "\n",
    "**In this exercise we will be defining some functions to prepare textual data. These functions should apply equally well to both the codeup blog articles and the news articles that were previously acquired.**\n",
    "\n",
    "1) Define a function named basic_clean. It should take in a string and apply some basic text cleaning to it:\n",
    "\n",
    "- Lowercase everything\n",
    "- Normalize unicode characters\n",
    "- Replace anything that is not a letter, number, whitespace or a single quote.\n",
    "\n",
    "2) Define a function named `tokenize`. It should take in a string and tokenize all the words in the string.\n",
    "\n",
    "3) Define a function named `stem`. It should accept some text and return the text after applying stemming to all the words.\n",
    "\n",
    "4) Define a function named `lemmatize`. It should accept some text and return the text after applying lemmatization to each word.\n",
    "\n",
    "5) Define a function named `remove_stopwords`. It should accept some text and return the text after removing all the stopwords.\n",
    "\n",
    "This function should define two optional parameters, extra_words and exclude_words. These parameters should define any additional stop words to include, and any words that we don't want to remove.\n",
    "\n",
    "6) Use your data from the acquire to produce a dataframe of the news articles. Name the dataframe news_df.\n",
    "\n",
    "7) Make another dataframe for the Codeup blog posts. Name the dataframe `codeup_df`.\n",
    "\n",
    "8) For each dataframe, produce the following columns:\n",
    "\n",
    "- `title` to hold the title\n",
    "- `original` to hold the original article/post content\n",
    "- `clean` to hold the normalized and tokenized original with the stopwords removed.\n",
    "- `stemmed` to hold the stemmed version of the cleaned data.\n",
    "- `lemmatized` to hold the lemmatized version of the cleaned data.\n",
    "\n",
    "9) Ask yourself:\n",
    "\n",
    "- If your corpus is 493KB, would you prefer to use stemmed or lemmatized text?\n",
    "- If your corpus is 25MB, would you prefer to use stemmed or lemmatized text?\n",
    "- If your corpus is 200TB of text and you're charged by the megabyte for your hosted computational resources, would you prefer to use stemmed or lemmatized text?"
   ]
  },
  {
   "cell_type": "code",
   "execution_count": 1,
   "id": "24c84ec2",
   "metadata": {},
   "outputs": [],
   "source": [
    "import unicodedata\n",
    "import re\n",
    "import json\n",
    "\n",
    "import nltk\n",
    "from nltk.tokenize.toktok import ToktokTokenizer\n",
    "from nltk.corpus import stopwords\n",
    "\n",
    "import pandas as pd\n",
    "\n",
    "import acquire\n"
   ]
  },
  {
   "cell_type": "code",
   "execution_count": 2,
   "id": "258340ed",
   "metadata": {},
   "outputs": [
    {
     "name": "stderr",
     "output_type": "stream",
     "text": [
      "[nltk_data] Downloading package stopwords to\n",
      "[nltk_data]     /Users/albertcontreras/nltk_data...\n",
      "[nltk_data]   Package stopwords is already up-to-date!\n"
     ]
    },
    {
     "data": {
      "text/plain": [
       "True"
      ]
     },
     "execution_count": 2,
     "metadata": {},
     "output_type": "execute_result"
    }
   ],
   "source": [
    "# We don't need to install nltk, it should come with anaconda, but nltk\n",
    "# does need to download some data.\n",
    "nltk.download('stopwords')"
   ]
  },
  {
   "cell_type": "code",
   "execution_count": 3,
   "id": "3bb96dfd",
   "metadata": {},
   "outputs": [
    {
     "name": "stderr",
     "output_type": "stream",
     "text": [
      "[nltk_data] Downloading package wordnet to\n",
      "[nltk_data]     /Users/albertcontreras/nltk_data...\n",
      "[nltk_data]   Package wordnet is already up-to-date!\n"
     ]
    },
    {
     "data": {
      "text/plain": [
       "True"
      ]
     },
     "execution_count": 3,
     "metadata": {},
     "output_type": "execute_result"
    }
   ],
   "source": [
    "nltk.download('wordnet')"
   ]
  },
  {
   "cell_type": "code",
   "execution_count": 4,
   "id": "f1015ed0",
   "metadata": {},
   "outputs": [
    {
     "name": "stdout",
     "output_type": "stream",
     "text": [
      "What are the Math and Stats Principles You Need for Data Science?\n",
      "Oct 21, 2020 | Data Science\n",
      "\n",
      "\n",
      "Coming into our Data Science program, you will need to know some math and stats. However, many of our applicants actually learn in the application process – you don’t need to be an expert before applying! Data science is a very accessible field to anyone dedicated to learning new skills, and we can work with any applicant to help them learn what they need to know. But what “skills” do we mean, e\n",
      "\n"
     ]
    }
   ],
   "source": [
    "# examples \n",
    "original = \"\"\"What are the Math and Stats Principles You Need for Data Science?\n",
    "Oct 21, 2020 | Data Science\n",
    "\n",
    "\n",
    "Coming into our Data Science program, you will need to know some math and stats. However, many of our applicants actually learn in the application process – you don’t need to be an expert before applying! Data science is a very accessible field to anyone dedicated to learning new skills, and we can work with any applicant to help them learn what they need to know. But what “skills” do we mean, e\n",
    "\"\"\"\n",
    "print(original[0:500])\n"
   ]
  },
  {
   "cell_type": "code",
   "execution_count": 5,
   "id": "e6b3f0ab",
   "metadata": {},
   "outputs": [
    {
     "name": "stdout",
     "output_type": "stream",
     "text": [
      "what are the math and stats principles you need for data science?\n",
      "oct 21, 2020 | data science\n",
      "\n",
      "\n",
      "coming into our data science program, you will need to know some math and stats. however, many of our applicants actually learn in the application process – you don’t need to be an expert before applying! data science is a very accessible field to anyone dedicated to learning new skills, and we can work with any applicant to help them learn what they need to know. but what “skills” do we mean, e\n",
      "\n"
     ]
    }
   ],
   "source": [
    "article = original.lower()\n",
    "print(article[0:500])\n"
   ]
  },
  {
   "cell_type": "markdown",
   "id": "429684b1",
   "metadata": {},
   "source": [
    "# REMOVING ACCENTED CHARACTERS\n",
    "1) `unicodedata.normalize` removes any inconsistencies in unicode character encoding.\n",
    "\n",
    "2) `.encode` to convert the resulting string to the ASCII character set. We'll ignore any errors in conversion, meaning we'll drop anything that isn't an ASCII character.\n",
    "\n",
    "3) `.decode` to turn the resulting bytes object back into a string."
   ]
  },
  {
   "cell_type": "code",
   "execution_count": 6,
   "id": "e04be298",
   "metadata": {},
   "outputs": [
    {
     "name": "stdout",
     "output_type": "stream",
     "text": [
      "what are the math and stats principles you need for data science?\n",
      "oct 21, 2020 | data science\n",
      "\n",
      "\n",
      "coming into our data science program, you will need to know some math and stats. however, many of our applicants actually learn in the application process  you dont need to be an expert before applying! data science is a very accessible field to anyone dedicated to learning new skills, and we can work with any applicant to help them learn what they need to know. but what skills do we mean, e\n",
      "\n"
     ]
    }
   ],
   "source": [
    "article = unicodedata.normalize('NFKD', article)\\\n",
    "    .encode('ascii', 'ignore')\\\n",
    "    .decode('utf-8', 'ignore')\n",
    "\n",
    "print(article[0:500])\n"
   ]
  },
  {
   "cell_type": "markdown",
   "id": "77843460",
   "metadata": {},
   "source": [
    "# REMOVING SPECIAL CHARACTERS"
   ]
  },
  {
   "cell_type": "code",
   "execution_count": 7,
   "id": "2721fca6",
   "metadata": {},
   "outputs": [
    {
     "name": "stdout",
     "output_type": "stream",
     "text": [
      "what are the math and stats principles you need for data science\n",
      "oct 21 2020  data science\n",
      "\n",
      "\n",
      "coming into our data science program you will need to know some math and stats however many of our applicants actually learn in the application process  you dont need to be an expert before applying data science is a very accessible field to anyone dedicated to learning new skills and we can work with any applicant to help them learn what they need to know but what skills do we mean e\n",
      "\n"
     ]
    }
   ],
   "source": [
    "# remove anything that is not a through z, a number, a single quote, or whitespace\n",
    "article = re.sub(r\"[^a-z0-9'\\s]\", '', article)\n",
    "print(article)\n"
   ]
  },
  {
   "cell_type": "markdown",
   "id": "34ec5b58",
   "metadata": {},
   "source": [
    "# TOKENIZATION"
   ]
  },
  {
   "cell_type": "code",
   "execution_count": 8,
   "id": "5ea4dc54",
   "metadata": {},
   "outputs": [
    {
     "name": "stdout",
     "output_type": "stream",
     "text": [
      "what are the math and stats principles you need for data science\n",
      "oct 21 2020 data science\n",
      "\n",
      "\n",
      "coming into our data science program you will need to know some math and stats however many of our applicants actually learn in the application process you dont need to be an expert before applying data science is a very accessible field to anyone dedicated to learning new skills and we can work with any applicant to help them learn what they need to know but what skills do we mean e\n"
     ]
    }
   ],
   "source": [
    "tokenizer = nltk.tokenize.ToktokTokenizer()\n",
    "\n",
    "print(tokenizer.tokenize(article, return_str=True)[0:500])\n"
   ]
  },
  {
   "cell_type": "markdown",
   "id": "6901abf3",
   "metadata": {},
   "source": [
    "# STEMMING"
   ]
  },
  {
   "cell_type": "code",
   "execution_count": 9,
   "id": "c4b9fdb5",
   "metadata": {},
   "outputs": [
    {
     "data": {
      "text/plain": [
       "('call', 'call', 'call')"
      ]
     },
     "execution_count": 9,
     "metadata": {},
     "output_type": "execute_result"
    }
   ],
   "source": [
    "# Create the nltk stemmer object, then use it\n",
    "ps = nltk.porter.PorterStemmer()\n",
    "\n",
    "ps.stem('call'), ps.stem('called'), ps.stem('calling')\n"
   ]
  },
  {
   "cell_type": "code",
   "execution_count": 10,
   "id": "94fb9b78",
   "metadata": {},
   "outputs": [
    {
     "name": "stdout",
     "output_type": "stream",
     "text": [
      "what are the math and stat principl you need for data scienc oct 21 2020 data scienc come into our data scienc program you will need to know some math and stat howev mani of our applic actual learn in the applic process you dont need to be an expert befor appli data scienc is a veri access field to anyon dedic to learn new skill and we can work with ani applic to help them learn what they need to know but what skill do we mean e\n"
     ]
    }
   ],
   "source": [
    "stems = [ps.stem(word) for word in article.split()]\n",
    "article_stemmed = ' '.join(stems)\n",
    "print(article_stemmed)\n"
   ]
  },
  {
   "cell_type": "code",
   "execution_count": 11,
   "id": "4cc41b24",
   "metadata": {},
   "outputs": [
    {
     "data": {
      "text/plain": [
       "to        6\n",
       "need      4\n",
       "data      4\n",
       "scienc    4\n",
       "what      3\n",
       "learn     3\n",
       "applic    3\n",
       "and       3\n",
       "you       3\n",
       "skill     2\n",
       "dtype: int64"
      ]
     },
     "execution_count": 11,
     "metadata": {},
     "output_type": "execute_result"
    }
   ],
   "source": [
    "pd.Series(stems).value_counts().head(10)\n"
   ]
  },
  {
   "cell_type": "markdown",
   "id": "33ac71fe",
   "metadata": {},
   "source": [
    "# [SEE CLASS LINK FOR MORE HELP](https://ds.codeup.com/nlp/prepare/)"
   ]
  },
  {
   "cell_type": "code",
   "execution_count": 12,
   "id": "55e9b666",
   "metadata": {},
   "outputs": [],
   "source": [
    "# string we will be testing on.\n",
    "test_code = \"\"\"What are the Math and Stats Principles You Need for Data Science?\n",
    "Oct 21, 2020 | Data Science\n",
    "Coming into our Data Science program, you will need to know some math and stats. However, many of our applicants actually learn in the application process – you don’t need to be an expert before applying! Data science is a very accessible field to anyone dedicated to learning new skills, and we can work with any applicant to help them learn what they need to know. But what “skills” do we mean, e\n",
    "\"\"\""
   ]
  },
  {
   "cell_type": "markdown",
   "id": "a17b0ecc",
   "metadata": {},
   "source": [
    "1) Define a function named basic_clean. It should take in a string and apply some basic text cleaning to it:\n",
    "\n",
    "- Lowercase everything\n",
    "- Normalize unicode characters\n",
    "- Replace anything that is not a letter, number, whitespace or a single quote."
   ]
  },
  {
   "cell_type": "code",
   "execution_count": 13,
   "id": "4461558b",
   "metadata": {},
   "outputs": [
    {
     "data": {
      "text/plain": [
       "'what are the math and stats principles you need for data science\\noct 21 2020  data science\\ncoming into our data science program you will need to know some math and stats however many of our applicants actually learn in the application process  you dont need to be an expert before applying data science is a very accessible field to anyone dedicated to learning new skills and we can work with any applicant to help them learn what they need to know but what skills do we mean e\\n'"
      ]
     },
     "execution_count": 13,
     "metadata": {},
     "output_type": "execute_result"
    }
   ],
   "source": [
    "def basic_clean(string):\n",
    "    string = unicodedata.normalize('NFKD', string)\\\n",
    "        .encode('ascii', 'ignore')\\\n",
    "        .decode('utf-8', 'ignore')\\\n",
    "        .lower()\n",
    "    string = re.sub(r\"[^a-z0-9'\\s]\", '', string)                                \n",
    "    return string\n",
    "basic_clean(test_code)"
   ]
  },
  {
   "cell_type": "code",
   "execution_count": 14,
   "id": "47663876",
   "metadata": {},
   "outputs": [],
   "source": [
    "updated = basic_clean(test_code)"
   ]
  },
  {
   "cell_type": "markdown",
   "id": "89d73cc8",
   "metadata": {},
   "source": [
    "2) Define a function named `tokenize`. It should take in a string and tokenize all the words in the string."
   ]
  },
  {
   "cell_type": "code",
   "execution_count": 15,
   "id": "f28626f1",
   "metadata": {},
   "outputs": [
    {
     "data": {
      "text/plain": [
       "'what are the math and stats principles you need for data science\\noct 21 2020 data science\\ncoming into our data science program you will need to know some math and stats however many of our applicants actually learn in the application process you dont need to be an expert before applying data science is a very accessible field to anyone dedicated to learning new skills and we can work with any applicant to help them learn what they need to know but what skills do we mean e'"
      ]
     },
     "execution_count": 15,
     "metadata": {},
     "output_type": "execute_result"
    }
   ],
   "source": [
    "def tokenize(string):\n",
    "    #define tokenizer\n",
    "    tokenizer = nltk.tokenize.ToktokTokenizer()\n",
    "    # apply tokenization to the string.\n",
    "    string = tokenizer.tokenize(string, return_str = True)\n",
    "    #return tokenized string.\n",
    "    return string\n",
    "tokenize(updated)"
   ]
  },
  {
   "cell_type": "markdown",
   "id": "45d0942d",
   "metadata": {},
   "source": [
    "3) Define a function named `stem`. It should accept some text and return the text after applying stemming to all the words.\n"
   ]
  },
  {
   "cell_type": "code",
   "execution_count": 16,
   "id": "fd25b9f3",
   "metadata": {},
   "outputs": [],
   "source": [
    "def stem(string) :\n",
    "    \"\"\"This function returns a string in stemmed format.\"\"\"\n",
    "    # create our stemming\n",
    "    ps = nltk.porter.PorterStemmer()\n",
    "    # split by the default\n",
    "    stems = [ps.stem(word) for word in string.split()]\n",
    "    # return to normal\n",
    "    string = ' '.join(stems)\n",
    "    return string"
   ]
  },
  {
   "cell_type": "markdown",
   "id": "03954562",
   "metadata": {},
   "source": [
    "4) Define a function named `lemmatize`. It should accept some text and return the text after applying lemmatization to each word."
   ]
  },
  {
   "cell_type": "code",
   "execution_count": 17,
   "id": "2475f5cd",
   "metadata": {},
   "outputs": [
    {
     "data": {
      "text/plain": [
       "'what are the math and stat principl you need for data scienc oct 21 2020 data scienc come into our data scienc program you will need to know some math and stat howev mani of our applic actual learn in the applic process you dont need to be an expert befor appli data scienc is a veri access field to anyon dedic to learn new skill and we can work with ani applic to help them learn what they need to know but what skill do we mean e'"
      ]
     },
     "execution_count": 17,
     "metadata": {},
     "output_type": "execute_result"
    }
   ],
   "source": [
    "a = tokenize(updated)\n",
    "stem(a)"
   ]
  },
  {
   "cell_type": "code",
   "execution_count": 18,
   "id": "0accd7c3",
   "metadata": {},
   "outputs": [],
   "source": [
    "def lemmatize(string):\n",
    "    \"\"\"This function returns a string with words lemmatized\"\"\"\n",
    "    # create our lemmatizer\n",
    "    wnl = nltk.stem.WordNetLemmatizer()\n",
    "    # use a list. comprehension to lemmatize each word\n",
    "    # string.split() => output a list of every token inside of the document\n",
    "    lemmas = [wnl.lemmatize(word) for word in string.split()]\n",
    "    # glue the lemmas back together by the strings we split on\n",
    "    string= ' '.join(lemmas)\n",
    "    #return the altered document\n",
    "    return string"
   ]
  },
  {
   "cell_type": "code",
   "execution_count": 19,
   "id": "a63697cf",
   "metadata": {},
   "outputs": [
    {
     "data": {
      "text/plain": [
       "'what are the math and stats principle you need for data science oct 21 2020 data science coming into our data science program you will need to know some math and stats however many of our applicant actually learn in the application process you dont need to be an expert before applying data science is a very accessible field to anyone dedicated to learning new skill and we can work with any applicant to help them learn what they need to know but what skill do we mean e'"
      ]
     },
     "execution_count": 19,
     "metadata": {},
     "output_type": "execute_result"
    }
   ],
   "source": [
    "lemmatize(updated)"
   ]
  },
  {
   "cell_type": "markdown",
   "id": "3a508a9e",
   "metadata": {},
   "source": [
    "5) Define a function named `remove_stopwords`. It should accept some text and return the text after removing all the stopwords.\n"
   ]
  },
  {
   "cell_type": "code",
   "execution_count": 20,
   "id": "5287b713",
   "metadata": {},
   "outputs": [],
   "source": [
    "def remove_stopwords (string, extra_words = [], exclude_words = []):\n",
    "    \"This function takes in a string, optional extra_words and exclude_words parameters\"\n",
    "    # assian our stoowords from nltk into stooword list\n",
    "    stopword_list = stopwords.words('english')\n",
    "    # utilizing set casting, i will remove any excluded stopwords\n",
    "    stopword_list = set(stopword_list) - set(exclude_words)\n",
    "    # add in any extra words to my stopwords set using a union\n",
    "    stopword_list = stopword_list.union(set(extra_words))\n",
    "    #split document by spaces\n",
    "    words = string.split()\n",
    "    # every word in our document, as long as that word is not in our stopwords\n",
    "    filtered_words = [word for word in words if word not in stopword_list]\n",
    "    # glue it back together with spaces, as it was so it shall be\n",
    "    string_without_stopwords =' '.join(filtered_words)\n",
    "    # return the document back\n",
    "    return string_without_stopwords"
   ]
  },
  {
   "cell_type": "code",
   "execution_count": 21,
   "id": "f462d051",
   "metadata": {},
   "outputs": [
    {
     "data": {
      "text/plain": [
       "'math stats principles need data science oct 21 2020 data science coming data science program need know math stats however many applicants actually learn application process dont need expert applying data science accessible field anyone dedicated learning new skills work applicant help learn need know skills mean e'"
      ]
     },
     "execution_count": 21,
     "metadata": {},
     "output_type": "execute_result"
    }
   ],
   "source": [
    "remove_stopwords(updated)"
   ]
  },
  {
   "cell_type": "markdown",
   "id": "668b3e34",
   "metadata": {},
   "source": [
    "6) Use your data from the acquire to produce a dataframe of the news articles. Name the dataframe news_df.\n"
   ]
  },
  {
   "cell_type": "code",
   "execution_count": 22,
   "id": "9876a0ab",
   "metadata": {},
   "outputs": [
    {
     "data": {
      "text/html": [
       "<div>\n",
       "<style scoped>\n",
       "    .dataframe tbody tr th:only-of-type {\n",
       "        vertical-align: middle;\n",
       "    }\n",
       "\n",
       "    .dataframe tbody tr th {\n",
       "        vertical-align: top;\n",
       "    }\n",
       "\n",
       "    .dataframe thead th {\n",
       "        text-align: right;\n",
       "    }\n",
       "</style>\n",
       "<table border=\"1\" class=\"dataframe\">\n",
       "  <thead>\n",
       "    <tr style=\"text-align: right;\">\n",
       "      <th></th>\n",
       "      <th>title</th>\n",
       "      <th>original</th>\n",
       "      <th>category</th>\n",
       "    </tr>\n",
       "  </thead>\n",
       "  <tbody>\n",
       "    <tr>\n",
       "      <th>0</th>\n",
       "      <td>Situation is exceptional but comparing it with...</td>\n",
       "      <td>The government hosted an all-party meeting on ...</td>\n",
       "      <td>world</td>\n",
       "    </tr>\n",
       "    <tr>\n",
       "      <th>1</th>\n",
       "      <td>Fires erupt across UK as it records its hottes...</td>\n",
       "      <td>The south of England and Wales saw multiple fi...</td>\n",
       "      <td>world</td>\n",
       "    </tr>\n",
       "    <tr>\n",
       "      <th>2</th>\n",
       "      <td>Hottest day recorded in history of UK as tempe...</td>\n",
       "      <td>The hottest day has been recorded in the histo...</td>\n",
       "      <td>world</td>\n",
       "    </tr>\n",
       "    <tr>\n",
       "      <th>3</th>\n",
       "      <td>Russia seeks explanation from India over detai...</td>\n",
       "      <td>Russian Embassy in India has said it's aware o...</td>\n",
       "      <td>world</td>\n",
       "    </tr>\n",
       "    <tr>\n",
       "      <th>4</th>\n",
       "      <td>India &amp; China to maintain stability along LAC ...</td>\n",
       "      <td>India and China agreed to maintain stability o...</td>\n",
       "      <td>world</td>\n",
       "    </tr>\n",
       "    <tr>\n",
       "      <th>...</th>\n",
       "      <td>...</td>\n",
       "      <td>...</td>\n",
       "      <td>...</td>\n",
       "    </tr>\n",
       "    <tr>\n",
       "      <th>19</th>\n",
       "      <td>It's like salt in too much sugar: Ayan on 'lov...</td>\n",
       "      <td>'Brahmastra' director Ayan Mukerji has defende...</td>\n",
       "      <td>entertainment</td>\n",
       "    </tr>\n",
       "    <tr>\n",
       "      <th>20</th>\n",
       "      <td>Anil charged ₹10 cr for 'JugJugg...', Kiara ch...</td>\n",
       "      <td>Actor Anil Kapoor charged ₹10 crore for 'JugJu...</td>\n",
       "      <td>entertainment</td>\n",
       "    </tr>\n",
       "    <tr>\n",
       "      <th>21</th>\n",
       "      <td>Trolling is part of life today: Ranbir Kapoor ...</td>\n",
       "      <td>Actor Ranbir Kapoor has reacted to trolls and ...</td>\n",
       "      <td>entertainment</td>\n",
       "    </tr>\n",
       "    <tr>\n",
       "      <th>22</th>\n",
       "      <td>Best film I've seen in a long time: Shilpa on ...</td>\n",
       "      <td>Actress Shilpa Shetty Kundra took to her Insta...</td>\n",
       "      <td>entertainment</td>\n",
       "    </tr>\n",
       "    <tr>\n",
       "      <th>23</th>\n",
       "      <td>Our equation is beyond cinema, we are like bro...</td>\n",
       "      <td>Actor Kiccha Sudeep, while speaking about his ...</td>\n",
       "      <td>entertainment</td>\n",
       "    </tr>\n",
       "  </tbody>\n",
       "</table>\n",
       "<p>97 rows × 3 columns</p>\n",
       "</div>"
      ],
      "text/plain": [
       "                                                title  \\\n",
       "0   Situation is exceptional but comparing it with...   \n",
       "1   Fires erupt across UK as it records its hottes...   \n",
       "2   Hottest day recorded in history of UK as tempe...   \n",
       "3   Russia seeks explanation from India over detai...   \n",
       "4   India & China to maintain stability along LAC ...   \n",
       "..                                                ...   \n",
       "19  It's like salt in too much sugar: Ayan on 'lov...   \n",
       "20  Anil charged ₹10 cr for 'JugJugg...', Kiara ch...   \n",
       "21  Trolling is part of life today: Ranbir Kapoor ...   \n",
       "22  Best film I've seen in a long time: Shilpa on ...   \n",
       "23  Our equation is beyond cinema, we are like bro...   \n",
       "\n",
       "                                             original       category  \n",
       "0   The government hosted an all-party meeting on ...          world  \n",
       "1   The south of England and Wales saw multiple fi...          world  \n",
       "2   The hottest day has been recorded in the histo...          world  \n",
       "3   Russian Embassy in India has said it's aware o...          world  \n",
       "4   India and China agreed to maintain stability o...          world  \n",
       "..                                                ...            ...  \n",
       "19  'Brahmastra' director Ayan Mukerji has defende...  entertainment  \n",
       "20  Actor Anil Kapoor charged ₹10 crore for 'JugJu...  entertainment  \n",
       "21  Actor Ranbir Kapoor has reacted to trolls and ...  entertainment  \n",
       "22  Actress Shilpa Shetty Kundra took to her Insta...  entertainment  \n",
       "23  Actor Kiccha Sudeep, while speaking about his ...  entertainment  \n",
       "\n",
       "[97 rows x 3 columns]"
      ]
     },
     "execution_count": 22,
     "metadata": {},
     "output_type": "execute_result"
    }
   ],
   "source": [
    "import acquire\n",
    "categories = ['world', 'science', 'technology', 'entertainment']\n",
    "news_df = acquire.get_shorts_articles(categories, refresh = False)\n",
    "news_df.rename(columns={'contents':'original'},inplace=True)\n",
    "news_df"
   ]
  },
  {
   "cell_type": "markdown",
   "id": "08e970a0",
   "metadata": {},
   "source": [
    "7) Make another dataframe for the Codeup blog posts. Name the dataframe `codeup_df`.\n"
   ]
  },
  {
   "cell_type": "code",
   "execution_count": 23,
   "id": "d0fdd720",
   "metadata": {},
   "outputs": [
    {
     "name": "stderr",
     "output_type": "stream",
     "text": [
      "/Users/albertcontreras/codeup-data-science/natural-language-processing-exercises/acquire.py:35: GuessedAtParserWarning: No parser was explicitly specified, so I'm using the best available HTML parser for this system (\"lxml\"). This usually isn't a problem, but if you run this code on another system, or in a different virtual environment, it may use a different parser and behave differently.\n",
      "\n",
      "The code that caused this warning is on line 35 of the file /Users/albertcontreras/codeup-data-science/natural-language-processing-exercises/acquire.py. To get rid of this warning, pass the additional argument 'features=\"lxml\"' to the BeautifulSoup constructor.\n",
      "\n",
      "  soup = BeautifulSoup(url_response.text)\n"
     ]
    },
    {
     "data": {
      "text/html": [
       "<div>\n",
       "<style scoped>\n",
       "    .dataframe tbody tr th:only-of-type {\n",
       "        vertical-align: middle;\n",
       "    }\n",
       "\n",
       "    .dataframe tbody tr th {\n",
       "        vertical-align: top;\n",
       "    }\n",
       "\n",
       "    .dataframe thead th {\n",
       "        text-align: right;\n",
       "    }\n",
       "</style>\n",
       "<table border=\"1\" class=\"dataframe\">\n",
       "  <thead>\n",
       "    <tr style=\"text-align: right;\">\n",
       "      <th></th>\n",
       "      <th>title</th>\n",
       "      <th>original</th>\n",
       "    </tr>\n",
       "  </thead>\n",
       "  <tbody>\n",
       "    <tr>\n",
       "      <th>0</th>\n",
       "      <td>What Jobs Can You Get After a Coding Bootcamp?...</td>\n",
       "      <td>Have you been considering a career in Cloud Ad...</td>\n",
       "    </tr>\n",
       "    <tr>\n",
       "      <th>1</th>\n",
       "      <td>What Jobs Can You Get After a Coding Bootcamp?...</td>\n",
       "      <td>If you are interested in embarking on a career...</td>\n",
       "    </tr>\n",
       "    <tr>\n",
       "      <th>2</th>\n",
       "      <td>Is Our Cloud Administration Program Right for ...</td>\n",
       "      <td>Changing careers can be scary. The first thing...</td>\n",
       "    </tr>\n",
       "    <tr>\n",
       "      <th>3</th>\n",
       "      <td>5 Reasons To Attend Our New Cloud Administrati...</td>\n",
       "      <td>Come Work In The Cloud\\nWhen your Monday rolls...</td>\n",
       "    </tr>\n",
       "    <tr>\n",
       "      <th>4</th>\n",
       "      <td>What Jobs Can You Get After a Coding Bootcamp?...</td>\n",
       "      <td>Have you been considering a career in Cloud Ad...</td>\n",
       "    </tr>\n",
       "    <tr>\n",
       "      <th>5</th>\n",
       "      <td>What Jobs Can You Get After a Coding Bootcamp?...</td>\n",
       "      <td>If you are interested in embarking on a career...</td>\n",
       "    </tr>\n",
       "    <tr>\n",
       "      <th>6</th>\n",
       "      <td>In-Person Workshop: Learn to Code – JavaScript...</td>\n",
       "      <td>Join us for our live in-person JavaScript cras...</td>\n",
       "    </tr>\n",
       "    <tr>\n",
       "      <th>7</th>\n",
       "      <td>In-Person Workshop: Learn to Code – Python on ...</td>\n",
       "      <td>According to LinkedIn, the “#1 Most Promising ...</td>\n",
       "    </tr>\n",
       "    <tr>\n",
       "      <th>8</th>\n",
       "      <td>Free JavaScript Workshop at Codeup Dallas on 6/28</td>\n",
       "      <td>Event Info: \\nLocation – Codeup Dallas\\nTime –...</td>\n",
       "    </tr>\n",
       "    <tr>\n",
       "      <th>9</th>\n",
       "      <td>Is Our Cloud Administration Program Right for ...</td>\n",
       "      <td>Changing careers can be scary. The first thing...</td>\n",
       "    </tr>\n",
       "    <tr>\n",
       "      <th>10</th>\n",
       "      <td>PRIDE in Tech Panel</td>\n",
       "      <td>In celebration of PRIDE month, join our Codeup...</td>\n",
       "    </tr>\n",
       "    <tr>\n",
       "      <th>11</th>\n",
       "      <td>Inclusion at Codeup During Pride Month (and Al...</td>\n",
       "      <td>Happy Pride Month! Pride Month is a dedicated ...</td>\n",
       "    </tr>\n",
       "    <tr>\n",
       "      <th>12</th>\n",
       "      <td>Mental Health First Aid Training</td>\n",
       "      <td>As a student of Codeup, going through a massiv...</td>\n",
       "    </tr>\n",
       "    <tr>\n",
       "      <th>13</th>\n",
       "      <td>Codeup Dallas: How to Succeed at a Coding Boot...</td>\n",
       "      <td>This event is the perfect opportunity for peop...</td>\n",
       "    </tr>\n",
       "    <tr>\n",
       "      <th>14</th>\n",
       "      <td>5 Reasons To Attend Our New Cloud Administrati...</td>\n",
       "      <td>Come Work In The Cloud\\nWhen your Monday rolls...</td>\n",
       "    </tr>\n",
       "    <tr>\n",
       "      <th>15</th>\n",
       "      <td>Learn to Code: Python on 5/21</td>\n",
       "      <td>According to LinkedIn, the “#1 Most Promising ...</td>\n",
       "    </tr>\n",
       "    <tr>\n",
       "      <th>16</th>\n",
       "      <td>Codeup Dallas Joins Career Day</td>\n",
       "      <td>Last week our Codeup Dallas team participated ...</td>\n",
       "    </tr>\n",
       "    <tr>\n",
       "      <th>17</th>\n",
       "      <td>Project Quest Info Session: IT Jumpstart on Ma...</td>\n",
       "      <td>Join our grant partner Project Quest as they d...</td>\n",
       "    </tr>\n",
       "    <tr>\n",
       "      <th>18</th>\n",
       "      <td>From Bootcamp to Bootcamp | A Military Appreci...</td>\n",
       "      <td>In honor of Military Appreciation Month, join ...</td>\n",
       "    </tr>\n",
       "    <tr>\n",
       "      <th>19</th>\n",
       "      <td>Our Acquisition of the Rackspace Cloud Academy...</td>\n",
       "      <td>Just about a year ago on April 16th, 2021 we a...</td>\n",
       "    </tr>\n",
       "    <tr>\n",
       "      <th>20</th>\n",
       "      <td>Learn to Code: HTML &amp; CSS on 4/30</td>\n",
       "      <td>HTML &amp; CSS are the design building blocks of a...</td>\n",
       "    </tr>\n",
       "    <tr>\n",
       "      <th>21</th>\n",
       "      <td>Learn to Code: Python Workshop on 4/23</td>\n",
       "      <td>According to LinkedIn, the “#1 Most Promising ...</td>\n",
       "    </tr>\n",
       "  </tbody>\n",
       "</table>\n",
       "</div>"
      ],
      "text/plain": [
       "                                                title  \\\n",
       "0   What Jobs Can You Get After a Coding Bootcamp?...   \n",
       "1   What Jobs Can You Get After a Coding Bootcamp?...   \n",
       "2   Is Our Cloud Administration Program Right for ...   \n",
       "3   5 Reasons To Attend Our New Cloud Administrati...   \n",
       "4   What Jobs Can You Get After a Coding Bootcamp?...   \n",
       "5   What Jobs Can You Get After a Coding Bootcamp?...   \n",
       "6   In-Person Workshop: Learn to Code – JavaScript...   \n",
       "7   In-Person Workshop: Learn to Code – Python on ...   \n",
       "8   Free JavaScript Workshop at Codeup Dallas on 6/28   \n",
       "9   Is Our Cloud Administration Program Right for ...   \n",
       "10                                PRIDE in Tech Panel   \n",
       "11  Inclusion at Codeup During Pride Month (and Al...   \n",
       "12                   Mental Health First Aid Training   \n",
       "13  Codeup Dallas: How to Succeed at a Coding Boot...   \n",
       "14  5 Reasons To Attend Our New Cloud Administrati...   \n",
       "15                      Learn to Code: Python on 5/21   \n",
       "16                     Codeup Dallas Joins Career Day   \n",
       "17  Project Quest Info Session: IT Jumpstart on Ma...   \n",
       "18  From Bootcamp to Bootcamp | A Military Appreci...   \n",
       "19  Our Acquisition of the Rackspace Cloud Academy...   \n",
       "20                  Learn to Code: HTML & CSS on 4/30   \n",
       "21             Learn to Code: Python Workshop on 4/23   \n",
       "\n",
       "                                             original  \n",
       "0   Have you been considering a career in Cloud Ad...  \n",
       "1   If you are interested in embarking on a career...  \n",
       "2   Changing careers can be scary. The first thing...  \n",
       "3   Come Work In The Cloud\\nWhen your Monday rolls...  \n",
       "4   Have you been considering a career in Cloud Ad...  \n",
       "5   If you are interested in embarking on a career...  \n",
       "6   Join us for our live in-person JavaScript cras...  \n",
       "7   According to LinkedIn, the “#1 Most Promising ...  \n",
       "8   Event Info: \\nLocation – Codeup Dallas\\nTime –...  \n",
       "9   Changing careers can be scary. The first thing...  \n",
       "10  In celebration of PRIDE month, join our Codeup...  \n",
       "11  Happy Pride Month! Pride Month is a dedicated ...  \n",
       "12  As a student of Codeup, going through a massiv...  \n",
       "13  This event is the perfect opportunity for peop...  \n",
       "14  Come Work In The Cloud\\nWhen your Monday rolls...  \n",
       "15  According to LinkedIn, the “#1 Most Promising ...  \n",
       "16  Last week our Codeup Dallas team participated ...  \n",
       "17  Join our grant partner Project Quest as they d...  \n",
       "18  In honor of Military Appreciation Month, join ...  \n",
       "19  Just about a year ago on April 16th, 2021 we a...  \n",
       "20  HTML & CSS are the design building blocks of a...  \n",
       "21  According to LinkedIn, the “#1 Most Promising ...  "
      ]
     },
     "execution_count": 23,
     "metadata": {},
     "output_type": "execute_result"
    }
   ],
   "source": [
    "codeup_df = acquire.blog_articles()\n",
    "codeup_df.rename(columns={'content':'original'}, inplace=True)\n",
    "codeup_df"
   ]
  },
  {
   "cell_type": "markdown",
   "id": "c9263916",
   "metadata": {},
   "source": [
    "8) For each dataframe, produce the following columns:\n",
    "\n",
    "- `title` to hold the title\n",
    "- `original` to hold the original article/post content\n",
    "- `clean` to hold the normalized and tokenized original with the stopwords removed.\n",
    "- `stemmed` to hold the stemmed version of the cleaned data.\n",
    "- `lemmatized` to hold the lemmatized version of the cleaned data.\n"
   ]
  },
  {
   "cell_type": "code",
   "execution_count": 24,
   "id": "a37bff37",
   "metadata": {},
   "outputs": [],
   "source": [
    "def prep_article_data(df, column, extra_words = [], exclude_words = []):\n",
    "                        \"\"\"This function take in a df and the string name for a text column with\n",
    "                        option to pass lists for extra words and exclude words and\n",
    "                        returns a df with the text article title, original text, stemmed text,\n",
    "                        lemmatized text, cleaned, tokenized, & lemmatized text with stopwords removed.\"\"\"\n",
    "                        df['clean'] = df[column].apply(basic_clean)\\\n",
    "                                                .apply(tokenize)\\\n",
    "                                                .apply(remove_stopwords, extra_words = extra_words, exclude_words= exclude_words)\n",
    "                        df['stemmed' ] = df['clean'].apply(stem)\n",
    "                        df['lemmatized'] = df['clean'].apply(lemmatize)\n",
    "                        return df[['title', column, 'clean', 'stemmed','lemmatized']]"
   ]
  },
  {
   "cell_type": "code",
   "execution_count": 25,
   "id": "815fb50e",
   "metadata": {},
   "outputs": [
    {
     "data": {
      "text/html": [
       "<div>\n",
       "<style scoped>\n",
       "    .dataframe tbody tr th:only-of-type {\n",
       "        vertical-align: middle;\n",
       "    }\n",
       "\n",
       "    .dataframe tbody tr th {\n",
       "        vertical-align: top;\n",
       "    }\n",
       "\n",
       "    .dataframe thead th {\n",
       "        text-align: right;\n",
       "    }\n",
       "</style>\n",
       "<table border=\"1\" class=\"dataframe\">\n",
       "  <thead>\n",
       "    <tr style=\"text-align: right;\">\n",
       "      <th></th>\n",
       "      <th>title</th>\n",
       "      <th>original</th>\n",
       "      <th>clean</th>\n",
       "      <th>stemmed</th>\n",
       "      <th>lemmatized</th>\n",
       "    </tr>\n",
       "  </thead>\n",
       "  <tbody>\n",
       "    <tr>\n",
       "      <th>0</th>\n",
       "      <td>Situation is exceptional but comparing it with...</td>\n",
       "      <td>The government hosted an all-party meeting on ...</td>\n",
       "      <td>government hosted allparty meeting sri lanka c...</td>\n",
       "      <td>govern host allparti meet sri lanka crisi tues...</td>\n",
       "      <td>government hosted allparty meeting sri lanka c...</td>\n",
       "    </tr>\n",
       "    <tr>\n",
       "      <th>1</th>\n",
       "      <td>Fires erupt across UK as it records its hottes...</td>\n",
       "      <td>The south of England and Wales saw multiple fi...</td>\n",
       "      <td>south england wales saw multiple fires tuesday...</td>\n",
       "      <td>south england wale saw multipl fire tuesday te...</td>\n",
       "      <td>south england wale saw multiple fire tuesday t...</td>\n",
       "    </tr>\n",
       "    <tr>\n",
       "      <th>2</th>\n",
       "      <td>Hottest day recorded in history of UK as tempe...</td>\n",
       "      <td>The hottest day has been recorded in the histo...</td>\n",
       "      <td>hottest day recorded history uk temperatures h...</td>\n",
       "      <td>hottest day record histori uk temperatur hit 4...</td>\n",
       "      <td>hottest day recorded history uk temperature hi...</td>\n",
       "    </tr>\n",
       "    <tr>\n",
       "      <th>3</th>\n",
       "      <td>Russia seeks explanation from India over detai...</td>\n",
       "      <td>Russian Embassy in India has said it's aware o...</td>\n",
       "      <td>russian embassy india said ' aware russian car...</td>\n",
       "      <td>russian embassi india said ' awar russian carg...</td>\n",
       "      <td>russian embassy india said ' aware russian car...</td>\n",
       "    </tr>\n",
       "    <tr>\n",
       "      <th>4</th>\n",
       "      <td>India &amp; China to maintain stability along LAC ...</td>\n",
       "      <td>India and China agreed to maintain stability o...</td>\n",
       "      <td>india china agreed maintain stability ground r...</td>\n",
       "      <td>india china agre maintain stabil ground resolv...</td>\n",
       "      <td>india china agreed maintain stability ground r...</td>\n",
       "    </tr>\n",
       "    <tr>\n",
       "      <th>...</th>\n",
       "      <td>...</td>\n",
       "      <td>...</td>\n",
       "      <td>...</td>\n",
       "      <td>...</td>\n",
       "      <td>...</td>\n",
       "    </tr>\n",
       "    <tr>\n",
       "      <th>19</th>\n",
       "      <td>It's like salt in too much sugar: Ayan on 'lov...</td>\n",
       "      <td>'Brahmastra' director Ayan Mukerji has defende...</td>\n",
       "      <td>' brahmastra ' director ayan mukerji defended ...</td>\n",
       "      <td>' brahmastra ' director ayan mukerji defend ly...</td>\n",
       "      <td>' brahmastra ' director ayan mukerji defended ...</td>\n",
       "    </tr>\n",
       "    <tr>\n",
       "      <th>20</th>\n",
       "      <td>Anil charged ₹10 cr for 'JugJugg...', Kiara ch...</td>\n",
       "      <td>Actor Anil Kapoor charged ₹10 crore for 'JugJu...</td>\n",
       "      <td>actor anil kapoor charged 10 crore ' jugjugg j...</td>\n",
       "      <td>actor anil kapoor charg 10 crore ' jugjugg jee...</td>\n",
       "      <td>actor anil kapoor charged 10 crore ' jugjugg j...</td>\n",
       "    </tr>\n",
       "    <tr>\n",
       "      <th>21</th>\n",
       "      <td>Trolling is part of life today: Ranbir Kapoor ...</td>\n",
       "      <td>Actor Ranbir Kapoor has reacted to trolls and ...</td>\n",
       "      <td>actor ranbir kapoor reacted trolls memes relat...</td>\n",
       "      <td>actor ranbir kapoor react troll meme relat son...</td>\n",
       "      <td>actor ranbir kapoor reacted troll meme related...</td>\n",
       "    </tr>\n",
       "    <tr>\n",
       "      <th>22</th>\n",
       "      <td>Best film I've seen in a long time: Shilpa on ...</td>\n",
       "      <td>Actress Shilpa Shetty Kundra took to her Insta...</td>\n",
       "      <td>actress shilpa shetty kundra took instagram st...</td>\n",
       "      <td>actress shilpa shetti kundra took instagram st...</td>\n",
       "      <td>actress shilpa shetty kundra took instagram st...</td>\n",
       "    </tr>\n",
       "    <tr>\n",
       "      <th>23</th>\n",
       "      <td>Our equation is beyond cinema, we are like bro...</td>\n",
       "      <td>Actor Kiccha Sudeep, while speaking about his ...</td>\n",
       "      <td>actor kiccha sudeep speaking bond salman khan ...</td>\n",
       "      <td>actor kiccha sudeep speak bond salman khan sai...</td>\n",
       "      <td>actor kiccha sudeep speaking bond salman khan ...</td>\n",
       "    </tr>\n",
       "  </tbody>\n",
       "</table>\n",
       "<p>97 rows × 5 columns</p>\n",
       "</div>"
      ],
      "text/plain": [
       "                                                title  \\\n",
       "0   Situation is exceptional but comparing it with...   \n",
       "1   Fires erupt across UK as it records its hottes...   \n",
       "2   Hottest day recorded in history of UK as tempe...   \n",
       "3   Russia seeks explanation from India over detai...   \n",
       "4   India & China to maintain stability along LAC ...   \n",
       "..                                                ...   \n",
       "19  It's like salt in too much sugar: Ayan on 'lov...   \n",
       "20  Anil charged ₹10 cr for 'JugJugg...', Kiara ch...   \n",
       "21  Trolling is part of life today: Ranbir Kapoor ...   \n",
       "22  Best film I've seen in a long time: Shilpa on ...   \n",
       "23  Our equation is beyond cinema, we are like bro...   \n",
       "\n",
       "                                             original  \\\n",
       "0   The government hosted an all-party meeting on ...   \n",
       "1   The south of England and Wales saw multiple fi...   \n",
       "2   The hottest day has been recorded in the histo...   \n",
       "3   Russian Embassy in India has said it's aware o...   \n",
       "4   India and China agreed to maintain stability o...   \n",
       "..                                                ...   \n",
       "19  'Brahmastra' director Ayan Mukerji has defende...   \n",
       "20  Actor Anil Kapoor charged ₹10 crore for 'JugJu...   \n",
       "21  Actor Ranbir Kapoor has reacted to trolls and ...   \n",
       "22  Actress Shilpa Shetty Kundra took to her Insta...   \n",
       "23  Actor Kiccha Sudeep, while speaking about his ...   \n",
       "\n",
       "                                                clean  \\\n",
       "0   government hosted allparty meeting sri lanka c...   \n",
       "1   south england wales saw multiple fires tuesday...   \n",
       "2   hottest day recorded history uk temperatures h...   \n",
       "3   russian embassy india said ' aware russian car...   \n",
       "4   india china agreed maintain stability ground r...   \n",
       "..                                                ...   \n",
       "19  ' brahmastra ' director ayan mukerji defended ...   \n",
       "20  actor anil kapoor charged 10 crore ' jugjugg j...   \n",
       "21  actor ranbir kapoor reacted trolls memes relat...   \n",
       "22  actress shilpa shetty kundra took instagram st...   \n",
       "23  actor kiccha sudeep speaking bond salman khan ...   \n",
       "\n",
       "                                              stemmed  \\\n",
       "0   govern host allparti meet sri lanka crisi tues...   \n",
       "1   south england wale saw multipl fire tuesday te...   \n",
       "2   hottest day record histori uk temperatur hit 4...   \n",
       "3   russian embassi india said ' awar russian carg...   \n",
       "4   india china agre maintain stabil ground resolv...   \n",
       "..                                                ...   \n",
       "19  ' brahmastra ' director ayan mukerji defend ly...   \n",
       "20  actor anil kapoor charg 10 crore ' jugjugg jee...   \n",
       "21  actor ranbir kapoor react troll meme relat son...   \n",
       "22  actress shilpa shetti kundra took instagram st...   \n",
       "23  actor kiccha sudeep speak bond salman khan sai...   \n",
       "\n",
       "                                           lemmatized  \n",
       "0   government hosted allparty meeting sri lanka c...  \n",
       "1   south england wale saw multiple fire tuesday t...  \n",
       "2   hottest day recorded history uk temperature hi...  \n",
       "3   russian embassy india said ' aware russian car...  \n",
       "4   india china agreed maintain stability ground r...  \n",
       "..                                                ...  \n",
       "19  ' brahmastra ' director ayan mukerji defended ...  \n",
       "20  actor anil kapoor charged 10 crore ' jugjugg j...  \n",
       "21  actor ranbir kapoor reacted troll meme related...  \n",
       "22  actress shilpa shetty kundra took instagram st...  \n",
       "23  actor kiccha sudeep speaking bond salman khan ...  \n",
       "\n",
       "[97 rows x 5 columns]"
      ]
     },
     "execution_count": 25,
     "metadata": {},
     "output_type": "execute_result"
    }
   ],
   "source": [
    "prep_article_data(news_df, 'original', extra_words = ['ha'], exclude_words = ['no'])"
   ]
  },
  {
   "cell_type": "code",
   "execution_count": 26,
   "id": "00c7569c",
   "metadata": {},
   "outputs": [
    {
     "data": {
      "text/html": [
       "<div>\n",
       "<style scoped>\n",
       "    .dataframe tbody tr th:only-of-type {\n",
       "        vertical-align: middle;\n",
       "    }\n",
       "\n",
       "    .dataframe tbody tr th {\n",
       "        vertical-align: top;\n",
       "    }\n",
       "\n",
       "    .dataframe thead th {\n",
       "        text-align: right;\n",
       "    }\n",
       "</style>\n",
       "<table border=\"1\" class=\"dataframe\">\n",
       "  <thead>\n",
       "    <tr style=\"text-align: right;\">\n",
       "      <th></th>\n",
       "      <th>title</th>\n",
       "      <th>original</th>\n",
       "      <th>clean</th>\n",
       "      <th>stemmed</th>\n",
       "      <th>lemmatized</th>\n",
       "    </tr>\n",
       "  </thead>\n",
       "  <tbody>\n",
       "    <tr>\n",
       "      <th>0</th>\n",
       "      <td>What Jobs Can You Get After a Coding Bootcamp?...</td>\n",
       "      <td>Have you been considering a career in Cloud Ad...</td>\n",
       "      <td>considering career cloud administration no ide...</td>\n",
       "      <td>consid career cloud administr no idea job titl...</td>\n",
       "      <td>considering career cloud administration no ide...</td>\n",
       "    </tr>\n",
       "    <tr>\n",
       "      <th>1</th>\n",
       "      <td>What Jobs Can You Get After a Coding Bootcamp?...</td>\n",
       "      <td>If you are interested in embarking on a career...</td>\n",
       "      <td>interested embarking career tech youre probabl...</td>\n",
       "      <td>interest embark career tech your probabl wonde...</td>\n",
       "      <td>interested embarking career tech youre probabl...</td>\n",
       "    </tr>\n",
       "    <tr>\n",
       "      <th>2</th>\n",
       "      <td>Is Our Cloud Administration Program Right for ...</td>\n",
       "      <td>Changing careers can be scary. The first thing...</td>\n",
       "      <td>changing careers scary first thing may asking ...</td>\n",
       "      <td>chang career scari first thing may ask begin l...</td>\n",
       "      <td>changing career scary first thing may asking b...</td>\n",
       "    </tr>\n",
       "    <tr>\n",
       "      <th>3</th>\n",
       "      <td>5 Reasons To Attend Our New Cloud Administrati...</td>\n",
       "      <td>Come Work In The Cloud\\nWhen your Monday rolls...</td>\n",
       "      <td>come work cloud monday rolls around start get ...</td>\n",
       "      <td>come work cloud monday roll around start get s...</td>\n",
       "      <td>come work cloud monday roll around start get s...</td>\n",
       "    </tr>\n",
       "    <tr>\n",
       "      <th>4</th>\n",
       "      <td>What Jobs Can You Get After a Coding Bootcamp?...</td>\n",
       "      <td>Have you been considering a career in Cloud Ad...</td>\n",
       "      <td>considering career cloud administration no ide...</td>\n",
       "      <td>consid career cloud administr no idea job titl...</td>\n",
       "      <td>considering career cloud administration no ide...</td>\n",
       "    </tr>\n",
       "    <tr>\n",
       "      <th>5</th>\n",
       "      <td>What Jobs Can You Get After a Coding Bootcamp?...</td>\n",
       "      <td>If you are interested in embarking on a career...</td>\n",
       "      <td>interested embarking career tech youre probabl...</td>\n",
       "      <td>interest embark career tech your probabl wonde...</td>\n",
       "      <td>interested embarking career tech youre probabl...</td>\n",
       "    </tr>\n",
       "    <tr>\n",
       "      <th>6</th>\n",
       "      <td>In-Person Workshop: Learn to Code – JavaScript...</td>\n",
       "      <td>Join us for our live in-person JavaScript cras...</td>\n",
       "      <td>join us live inperson javascript crash course ...</td>\n",
       "      <td>join us live inperson javascript crash cours d...</td>\n",
       "      <td>join u live inperson javascript crash course d...</td>\n",
       "    </tr>\n",
       "    <tr>\n",
       "      <th>7</th>\n",
       "      <td>In-Person Workshop: Learn to Code – Python on ...</td>\n",
       "      <td>According to LinkedIn, the “#1 Most Promising ...</td>\n",
       "      <td>according linkedin 1 promising job data scienc...</td>\n",
       "      <td>accord linkedin 1 promis job data scienc one m...</td>\n",
       "      <td>according linkedin 1 promising job data scienc...</td>\n",
       "    </tr>\n",
       "    <tr>\n",
       "      <th>8</th>\n",
       "      <td>Free JavaScript Workshop at Codeup Dallas on 6/28</td>\n",
       "      <td>Event Info: \\nLocation – Codeup Dallas\\nTime –...</td>\n",
       "      <td>event info location codeup dallas time 6 pm co...</td>\n",
       "      <td>event info locat codeup dalla time 6 pm come l...</td>\n",
       "      <td>event info location codeup dallas time 6 pm co...</td>\n",
       "    </tr>\n",
       "    <tr>\n",
       "      <th>9</th>\n",
       "      <td>Is Our Cloud Administration Program Right for ...</td>\n",
       "      <td>Changing careers can be scary. The first thing...</td>\n",
       "      <td>changing careers scary first thing may asking ...</td>\n",
       "      <td>chang career scari first thing may ask begin l...</td>\n",
       "      <td>changing career scary first thing may asking b...</td>\n",
       "    </tr>\n",
       "    <tr>\n",
       "      <th>10</th>\n",
       "      <td>PRIDE in Tech Panel</td>\n",
       "      <td>In celebration of PRIDE month, join our Codeup...</td>\n",
       "      <td>celebration pride month join codeup alumni lgb...</td>\n",
       "      <td>celebr pride month join codeup alumni lgbtqia ...</td>\n",
       "      <td>celebration pride month join codeup alumnus lg...</td>\n",
       "    </tr>\n",
       "    <tr>\n",
       "      <th>11</th>\n",
       "      <td>Inclusion at Codeup During Pride Month (and Al...</td>\n",
       "      <td>Happy Pride Month! Pride Month is a dedicated ...</td>\n",
       "      <td>happy pride month pride month dedicated time c...</td>\n",
       "      <td>happi pride month pride month dedic time celeb...</td>\n",
       "      <td>happy pride month pride month dedicated time c...</td>\n",
       "    </tr>\n",
       "    <tr>\n",
       "      <th>12</th>\n",
       "      <td>Mental Health First Aid Training</td>\n",
       "      <td>As a student of Codeup, going through a massiv...</td>\n",
       "      <td>student codeup going massive career transition...</td>\n",
       "      <td>student codeup go massiv career transit mental...</td>\n",
       "      <td>student codeup going massive career transition...</td>\n",
       "    </tr>\n",
       "    <tr>\n",
       "      <th>13</th>\n",
       "      <td>Codeup Dallas: How to Succeed at a Coding Boot...</td>\n",
       "      <td>This event is the perfect opportunity for peop...</td>\n",
       "      <td>event perfect opportunity people wondering exp...</td>\n",
       "      <td>event perfect opportun peopl wonder expect cod...</td>\n",
       "      <td>event perfect opportunity people wondering exp...</td>\n",
       "    </tr>\n",
       "    <tr>\n",
       "      <th>14</th>\n",
       "      <td>5 Reasons To Attend Our New Cloud Administrati...</td>\n",
       "      <td>Come Work In The Cloud\\nWhen your Monday rolls...</td>\n",
       "      <td>come work cloud monday rolls around start get ...</td>\n",
       "      <td>come work cloud monday roll around start get s...</td>\n",
       "      <td>come work cloud monday roll around start get s...</td>\n",
       "    </tr>\n",
       "    <tr>\n",
       "      <th>15</th>\n",
       "      <td>Learn to Code: Python on 5/21</td>\n",
       "      <td>According to LinkedIn, the “#1 Most Promising ...</td>\n",
       "      <td>according linkedin 1 promising job data scienc...</td>\n",
       "      <td>accord linkedin 1 promis job data scienc one m...</td>\n",
       "      <td>according linkedin 1 promising job data scienc...</td>\n",
       "    </tr>\n",
       "    <tr>\n",
       "      <th>16</th>\n",
       "      <td>Codeup Dallas Joins Career Day</td>\n",
       "      <td>Last week our Codeup Dallas team participated ...</td>\n",
       "      <td>last week codeup dallas team participated care...</td>\n",
       "      <td>last week codeup dalla team particip career da...</td>\n",
       "      <td>last week codeup dallas team participated care...</td>\n",
       "    </tr>\n",
       "    <tr>\n",
       "      <th>17</th>\n",
       "      <td>Project Quest Info Session: IT Jumpstart on Ma...</td>\n",
       "      <td>Join our grant partner Project Quest as they d...</td>\n",
       "      <td>join grant partner project quest discuss lates...</td>\n",
       "      <td>join grant partner project quest discuss lates...</td>\n",
       "      <td>join grant partner project quest discus latest...</td>\n",
       "    </tr>\n",
       "    <tr>\n",
       "      <th>18</th>\n",
       "      <td>From Bootcamp to Bootcamp | A Military Appreci...</td>\n",
       "      <td>In honor of Military Appreciation Month, join ...</td>\n",
       "      <td>honor military appreciation month join us disc...</td>\n",
       "      <td>honor militari appreci month join us discuss c...</td>\n",
       "      <td>honor military appreciation month join u discu...</td>\n",
       "    </tr>\n",
       "    <tr>\n",
       "      <th>19</th>\n",
       "      <td>Our Acquisition of the Rackspace Cloud Academy...</td>\n",
       "      <td>Just about a year ago on April 16th, 2021 we a...</td>\n",
       "      <td>year ago april 16th 2021 announced acquisition...</td>\n",
       "      <td>year ago april 16th 2021 announc acquisit rack...</td>\n",
       "      <td>year ago april 16th 2021 announced acquisition...</td>\n",
       "    </tr>\n",
       "    <tr>\n",
       "      <th>20</th>\n",
       "      <td>Learn to Code: HTML &amp; CSS on 4/30</td>\n",
       "      <td>HTML &amp; CSS are the design building blocks of a...</td>\n",
       "      <td>html css design building blocks websites inter...</td>\n",
       "      <td>html css design build block websit interact da...</td>\n",
       "      <td>html cs design building block website interact...</td>\n",
       "    </tr>\n",
       "    <tr>\n",
       "      <th>21</th>\n",
       "      <td>Learn to Code: Python Workshop on 4/23</td>\n",
       "      <td>According to LinkedIn, the “#1 Most Promising ...</td>\n",
       "      <td>according linkedin 1 promising job data scienc...</td>\n",
       "      <td>accord linkedin 1 promis job data scienc codeu...</td>\n",
       "      <td>according linkedin 1 promising job data scienc...</td>\n",
       "    </tr>\n",
       "  </tbody>\n",
       "</table>\n",
       "</div>"
      ],
      "text/plain": [
       "                                                title  \\\n",
       "0   What Jobs Can You Get After a Coding Bootcamp?...   \n",
       "1   What Jobs Can You Get After a Coding Bootcamp?...   \n",
       "2   Is Our Cloud Administration Program Right for ...   \n",
       "3   5 Reasons To Attend Our New Cloud Administrati...   \n",
       "4   What Jobs Can You Get After a Coding Bootcamp?...   \n",
       "5   What Jobs Can You Get After a Coding Bootcamp?...   \n",
       "6   In-Person Workshop: Learn to Code – JavaScript...   \n",
       "7   In-Person Workshop: Learn to Code – Python on ...   \n",
       "8   Free JavaScript Workshop at Codeup Dallas on 6/28   \n",
       "9   Is Our Cloud Administration Program Right for ...   \n",
       "10                                PRIDE in Tech Panel   \n",
       "11  Inclusion at Codeup During Pride Month (and Al...   \n",
       "12                   Mental Health First Aid Training   \n",
       "13  Codeup Dallas: How to Succeed at a Coding Boot...   \n",
       "14  5 Reasons To Attend Our New Cloud Administrati...   \n",
       "15                      Learn to Code: Python on 5/21   \n",
       "16                     Codeup Dallas Joins Career Day   \n",
       "17  Project Quest Info Session: IT Jumpstart on Ma...   \n",
       "18  From Bootcamp to Bootcamp | A Military Appreci...   \n",
       "19  Our Acquisition of the Rackspace Cloud Academy...   \n",
       "20                  Learn to Code: HTML & CSS on 4/30   \n",
       "21             Learn to Code: Python Workshop on 4/23   \n",
       "\n",
       "                                             original  \\\n",
       "0   Have you been considering a career in Cloud Ad...   \n",
       "1   If you are interested in embarking on a career...   \n",
       "2   Changing careers can be scary. The first thing...   \n",
       "3   Come Work In The Cloud\\nWhen your Monday rolls...   \n",
       "4   Have you been considering a career in Cloud Ad...   \n",
       "5   If you are interested in embarking on a career...   \n",
       "6   Join us for our live in-person JavaScript cras...   \n",
       "7   According to LinkedIn, the “#1 Most Promising ...   \n",
       "8   Event Info: \\nLocation – Codeup Dallas\\nTime –...   \n",
       "9   Changing careers can be scary. The first thing...   \n",
       "10  In celebration of PRIDE month, join our Codeup...   \n",
       "11  Happy Pride Month! Pride Month is a dedicated ...   \n",
       "12  As a student of Codeup, going through a massiv...   \n",
       "13  This event is the perfect opportunity for peop...   \n",
       "14  Come Work In The Cloud\\nWhen your Monday rolls...   \n",
       "15  According to LinkedIn, the “#1 Most Promising ...   \n",
       "16  Last week our Codeup Dallas team participated ...   \n",
       "17  Join our grant partner Project Quest as they d...   \n",
       "18  In honor of Military Appreciation Month, join ...   \n",
       "19  Just about a year ago on April 16th, 2021 we a...   \n",
       "20  HTML & CSS are the design building blocks of a...   \n",
       "21  According to LinkedIn, the “#1 Most Promising ...   \n",
       "\n",
       "                                                clean  \\\n",
       "0   considering career cloud administration no ide...   \n",
       "1   interested embarking career tech youre probabl...   \n",
       "2   changing careers scary first thing may asking ...   \n",
       "3   come work cloud monday rolls around start get ...   \n",
       "4   considering career cloud administration no ide...   \n",
       "5   interested embarking career tech youre probabl...   \n",
       "6   join us live inperson javascript crash course ...   \n",
       "7   according linkedin 1 promising job data scienc...   \n",
       "8   event info location codeup dallas time 6 pm co...   \n",
       "9   changing careers scary first thing may asking ...   \n",
       "10  celebration pride month join codeup alumni lgb...   \n",
       "11  happy pride month pride month dedicated time c...   \n",
       "12  student codeup going massive career transition...   \n",
       "13  event perfect opportunity people wondering exp...   \n",
       "14  come work cloud monday rolls around start get ...   \n",
       "15  according linkedin 1 promising job data scienc...   \n",
       "16  last week codeup dallas team participated care...   \n",
       "17  join grant partner project quest discuss lates...   \n",
       "18  honor military appreciation month join us disc...   \n",
       "19  year ago april 16th 2021 announced acquisition...   \n",
       "20  html css design building blocks websites inter...   \n",
       "21  according linkedin 1 promising job data scienc...   \n",
       "\n",
       "                                              stemmed  \\\n",
       "0   consid career cloud administr no idea job titl...   \n",
       "1   interest embark career tech your probabl wonde...   \n",
       "2   chang career scari first thing may ask begin l...   \n",
       "3   come work cloud monday roll around start get s...   \n",
       "4   consid career cloud administr no idea job titl...   \n",
       "5   interest embark career tech your probabl wonde...   \n",
       "6   join us live inperson javascript crash cours d...   \n",
       "7   accord linkedin 1 promis job data scienc one m...   \n",
       "8   event info locat codeup dalla time 6 pm come l...   \n",
       "9   chang career scari first thing may ask begin l...   \n",
       "10  celebr pride month join codeup alumni lgbtqia ...   \n",
       "11  happi pride month pride month dedic time celeb...   \n",
       "12  student codeup go massiv career transit mental...   \n",
       "13  event perfect opportun peopl wonder expect cod...   \n",
       "14  come work cloud monday roll around start get s...   \n",
       "15  accord linkedin 1 promis job data scienc one m...   \n",
       "16  last week codeup dalla team particip career da...   \n",
       "17  join grant partner project quest discuss lates...   \n",
       "18  honor militari appreci month join us discuss c...   \n",
       "19  year ago april 16th 2021 announc acquisit rack...   \n",
       "20  html css design build block websit interact da...   \n",
       "21  accord linkedin 1 promis job data scienc codeu...   \n",
       "\n",
       "                                           lemmatized  \n",
       "0   considering career cloud administration no ide...  \n",
       "1   interested embarking career tech youre probabl...  \n",
       "2   changing career scary first thing may asking b...  \n",
       "3   come work cloud monday roll around start get s...  \n",
       "4   considering career cloud administration no ide...  \n",
       "5   interested embarking career tech youre probabl...  \n",
       "6   join u live inperson javascript crash course d...  \n",
       "7   according linkedin 1 promising job data scienc...  \n",
       "8   event info location codeup dallas time 6 pm co...  \n",
       "9   changing career scary first thing may asking b...  \n",
       "10  celebration pride month join codeup alumnus lg...  \n",
       "11  happy pride month pride month dedicated time c...  \n",
       "12  student codeup going massive career transition...  \n",
       "13  event perfect opportunity people wondering exp...  \n",
       "14  come work cloud monday roll around start get s...  \n",
       "15  according linkedin 1 promising job data scienc...  \n",
       "16  last week codeup dallas team participated care...  \n",
       "17  join grant partner project quest discus latest...  \n",
       "18  honor military appreciation month join u discu...  \n",
       "19  year ago april 16th 2021 announced acquisition...  \n",
       "20  html cs design building block website interact...  \n",
       "21  according linkedin 1 promising job data scienc...  "
      ]
     },
     "execution_count": 26,
     "metadata": {},
     "output_type": "execute_result"
    }
   ],
   "source": [
    "prep_article_data(codeup_df, 'original', extra_words = ['ha'], exclude_words = ['no'])"
   ]
  },
  {
   "cell_type": "markdown",
   "id": "8eba9ed3",
   "metadata": {},
   "source": [
    "9) Ask yourself:\n",
    "\n",
    "`a) If your corpus is 493KB, would you prefer to use stemmed or lemmatized text?`\n",
    "\n",
    "`b) If your corpus is 25MB, would you prefer to use stemmed or lemmatized text?`\n",
    "\n",
    "`c) If your corpus is 200TB of text and you're charged by the megabyte for your hosted computational resources, would you prefer to use stemmed or lemmatized text?`\n"
   ]
  },
  {
   "cell_type": "markdown",
   "id": "9129354a",
   "metadata": {},
   "source": [
    "    a) stemmed or lemmetized because it is not a big file\n",
    "\n",
    "    b) lemmetized because it is still not that big of data\n",
    "\n",
    "    c) stemmed because the file is too big and it will save processing time and spcaee(money)"
   ]
  },
  {
   "cell_type": "code",
   "execution_count": null,
   "id": "5bc20b9b",
   "metadata": {},
   "outputs": [],
   "source": []
  }
 ],
 "metadata": {
  "kernelspec": {
   "display_name": "Python 3 (ipykernel)",
   "language": "python",
   "name": "python3"
  },
  "language_info": {
   "codemirror_mode": {
    "name": "ipython",
    "version": 3
   },
   "file_extension": ".py",
   "mimetype": "text/x-python",
   "name": "python",
   "nbconvert_exporter": "python",
   "pygments_lexer": "ipython3",
   "version": "3.9.7"
  }
 },
 "nbformat": 4,
 "nbformat_minor": 5
}
