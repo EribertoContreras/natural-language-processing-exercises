{
 "cells": [
  {
   "cell_type": "markdown",
   "id": "3f419bba",
   "metadata": {},
   "source": [
    "`Exercises`\n",
    "\n",
    "Using the repo setup directions, setup a new local and remote repository named natural-language-processing-exercises. The local version of your repo should live inside of `~/codeup-data-science`. This repo should be named natural-language-processing-exercises\n",
    "\n",
    "Save this work in your `natural-language-processing-exercises` repo. Then add, commit, and push your changes.\n",
    "\n",
    "Unless a specific file extension is specified, you may do your work either in a python script (.py) or a jupyter notebook (.ipynb).\n",
    "\n",
    "Do your work for this exercise in a file named `regex`.\n",
    "\n",
    "1) Write a function named is_vowel. It should accept a string as input and use a regular expression to determine if the passed string is a vowel. While not explicity mentioned in the lesson, you can treat the result of re.search as a boolean value that indicates whether or not the regular expression matches the given string.\n",
    "\n",
    "2) Write a function named is_valid_username that accepts a string as input. A valid username starts with a lowercase letter, and only consists of lowercase letters, numbers, or the _ character. It should also be no longer than 32 characters. The function should return either True or False depending on whether the passed string is a valid username.\n",
    "\n",
    "\n",
    ">>> is_valid_username('aaaaaaaaaaaaaaaaaaaaaaaaaaaaaaaaa')\n",
    "False\n",
    ">>> is_valid_username('codeup')\n",
    "True\n",
    ">>> is_valid_username('Codeup')\n",
    "False\n",
    ">>> is_valid_username('codeup123')\n",
    "True\n",
    ">>> is_valid_username('1codeup')\n",
    "False\n",
    "\n",
    "\n",
    "3) Write a regular expression to capture phone numbers. It should match all of the following:\n",
    "\n",
    "\n",
    "- (210) 867 5309\n",
    "- +1 210.867.5309\n",
    "- 867-5309\n",
    "- 210-867-5309\n",
    "\n",
    "4) Use regular expressions to convert the dates below to the standardized year-month-day format.\n",
    "\n",
    "\n",
    "- 02/04/19\n",
    "- 02/05/19\n",
    "- 02/06/19\n",
    "- 02/07/19\n",
    "- 02/08/19\n",
    "- 02/09/19\n",
    "- 02/10/19\n",
    "\n",
    "\n",
    "5) Write a regex to extract the various parts of these logfile lines:\n",
    "\n",
    "\n",
    "`GET /api/v1/sales?page=86 [16/Apr/2019:193452+0000] HTTP/1.1 {200} 510348 \"python-requests/2.21.0\" 97.105.19.58\n",
    "POST /users_accounts/file-upload [16/Apr/2019:193452+0000] HTTP/1.1 {201} 42 \"User-Agent: Mozilla/5.0 (X11; Fedora; Fedora; Linux x86_64) AppleWebKit/537.36 (KHTML, like Gecko) Chrome/73.0.3683.86 Safari/537.36\" 97.105.19.58\n",
    "GET /api/v1/items?page=3 [16/Apr/2019:193453+0000] HTTP/1.1 {429} 3561 \"python-requests/2.21.0\" 97.105.19.58\n",
    "`\n",
    "\n",
    "You can find a list of words on your mac at /usr/share/dict/words. Use this file to answer the following questions:\n",
    "\n",
    "\n",
    "- How many words have at least 3 vowels?\n",
    "- How many words have at least 3 vowels in a row?\n",
    "- How many words have at least 4 consonants in a row?\n",
    "- How many words start and end with the same letter?\n",
    "- How many words start and end with a vowel?\n",
    "- How many words contain the same letter 3 times in a row?\n",
    "- What other interesting patterns in words can you find?`\n",
    "\n",
    "\n",
    "\n",
    "`Verbose = inplace = true`"
   ]
  },
  {
   "cell_type": "code",
   "execution_count": 1,
   "id": "c9b1d0e1",
   "metadata": {},
   "outputs": [],
   "source": [
    "import re\n",
    "import pandas as pd"
   ]
  },
  {
   "cell_type": "markdown",
   "id": "ad567712",
   "metadata": {},
   "source": [
    "`1) Write a function named is_vowel. It should accept a string as input and use a regular expression to determine if the passed string is a vowel. While not explicity mentioned in the lesson, you can treat the result of re.search as a boolean value that indicates whether or not the regular expression matches the given string.`"
   ]
  },
  {
   "cell_type": "code",
   "execution_count": 43,
   "id": "6d583e9b",
   "metadata": {},
   "outputs": [
    {
     "name": "stdout",
     "output_type": "stream",
     "text": [
      "enter a string: a\n",
      "a is a Vowel\n"
     ]
    }
   ],
   "source": [
    "def is_vowel():\n",
    "    \"\"\"Should accept a string as input and use a regular expression to determine if the passed string is a vowel\"\"\"\n",
    "    ch = input(\"enter a string: \")\n",
    "    if re.search(r'[aeiou]', ch,re.IGNORECASE) and len(ch) == 1:\n",
    "        # if it is a vowell: it will return this message\n",
    "        print(ch, \"is a Vowel\") \n",
    "    else:\n",
    "        # if it is not a vowel: it will return this message\n",
    "        print(ch,\"is not a vowel\")\n",
    "    \n",
    "is_vowel()"
   ]
  },
  {
   "cell_type": "markdown",
   "id": "6ae159fd",
   "metadata": {},
   "source": [
    "`2) Write a function named is_valid_username that accepts a string as input.`\n",
    "`A valid username starts with a lowercase letter`,\n",
    "and only consists of `lowercase letters`,\n",
    "`numbers`, \n",
    "or `the _ character`\n",
    ". It should also be no longer than 32 characters. The function should return either True or False depending on whether the passed string is a valid username.`\n",
    "\n"
   ]
  },
  {
   "cell_type": "code",
   "execution_count": 51,
   "id": "9d8a6152",
   "metadata": {},
   "outputs": [
    {
     "name": "stdout",
     "output_type": "stream",
     "text": [
      "enter a value: asg\n"
     ]
    },
    {
     "ename": "TypeError",
     "evalue": "search() missing 1 required positional argument: 'string'",
     "output_type": "error",
     "traceback": [
      "\u001b[0;31m---------------------------------------------------------------------------\u001b[0m",
      "\u001b[0;31mTypeError\u001b[0m                                 Traceback (most recent call last)",
      "\u001b[0;32m/var/folders/dc/8rtfvpyj2mb6mqbnfkf5dl400000gn/T/ipykernel_93171/1425199486.py\u001b[0m in \u001b[0;36m<module>\u001b[0;34m\u001b[0m\n\u001b[1;32m      9\u001b[0m \u001b[0;34m\u001b[0m\u001b[0m\n\u001b[1;32m     10\u001b[0m \u001b[0;34m\u001b[0m\u001b[0m\n\u001b[0;32m---> 11\u001b[0;31m \u001b[0mis_valid_username\u001b[0m\u001b[0;34m(\u001b[0m\u001b[0;34m)\u001b[0m\u001b[0;34m\u001b[0m\u001b[0;34m\u001b[0m\u001b[0m\n\u001b[0m",
      "\u001b[0;32m/var/folders/dc/8rtfvpyj2mb6mqbnfkf5dl400000gn/T/ipykernel_93171/1425199486.py\u001b[0m in \u001b[0;36mis_valid_username\u001b[0;34m()\u001b[0m\n\u001b[1;32m      3\u001b[0m     numbers, or the _ character. It should also be no longer than 32 characters.\"\"\"\n\u001b[1;32m      4\u001b[0m     \u001b[0mch\u001b[0m \u001b[0;34m=\u001b[0m \u001b[0minput\u001b[0m\u001b[0;34m(\u001b[0m\u001b[0;34m\"enter a value: \"\u001b[0m\u001b[0;34m)\u001b[0m\u001b[0;34m\u001b[0m\u001b[0;34m\u001b[0m\u001b[0m\n\u001b[0;32m----> 5\u001b[0;31m     \u001b[0;32mif\u001b[0m \u001b[0mre\u001b[0m\u001b[0;34m.\u001b[0m\u001b[0msearch\u001b[0m\u001b[0;34m(\u001b[0m\u001b[0;34mr'^[a-z][a-zA-Z0-9_]{,31}$'\u001b[0m\u001b[0;34m)\u001b[0m\u001b[0;34m:\u001b[0m\u001b[0;34m\u001b[0m\u001b[0;34m\u001b[0m\u001b[0m\n\u001b[0m\u001b[1;32m      6\u001b[0m         \u001b[0mprint\u001b[0m\u001b[0;34m(\u001b[0m\u001b[0mch\u001b[0m\u001b[0;34m,\u001b[0m \u001b[0;34m\"USERNAME VALID\"\u001b[0m\u001b[0;34m)\u001b[0m\u001b[0;34m\u001b[0m\u001b[0;34m\u001b[0m\u001b[0m\n\u001b[1;32m      7\u001b[0m     \u001b[0;32melse\u001b[0m\u001b[0;34m:\u001b[0m\u001b[0;34m\u001b[0m\u001b[0;34m\u001b[0m\u001b[0m\n",
      "\u001b[0;31mTypeError\u001b[0m: search() missing 1 required positional argument: 'string'"
     ]
    }
   ],
   "source": [
    "def is_valid_username():\n",
    "    \"\"\"accepts a string as input. A valid username starts with a lowercase letter, and only consists of lowercase letters,\n",
    "    numbers, or the _ character. It should also be no longer than 32 characters.\"\"\"\n",
    "    ch = input(\"enter a value: \")\n",
    "    if re.search(r'^[a-z][a-zA-Z0-9_]{,31}$'):\n",
    "        print(ch, \"USERNAME VALID\")\n",
    "    else:\n",
    "        print(ch, \"INVALID USERNAME, PLEASE TRY AGAIN\")\n",
    "        \n",
    "        \n",
    "is_valid_username()"
   ]
  },
  {
   "cell_type": "code",
   "execution_count": null,
   "id": "cfc38b03",
   "metadata": {},
   "outputs": [],
   "source": []
  },
  {
   "cell_type": "code",
   "execution_count": null,
   "id": "6cc5a606",
   "metadata": {},
   "outputs": [],
   "source": []
  },
  {
   "cell_type": "code",
   "execution_count": null,
   "id": "518fca24",
   "metadata": {},
   "outputs": [],
   "source": []
  },
  {
   "cell_type": "code",
   "execution_count": null,
   "id": "b20bf7e8",
   "metadata": {},
   "outputs": [],
   "source": []
  },
  {
   "cell_type": "code",
   "execution_count": null,
   "id": "c32fed6b",
   "metadata": {},
   "outputs": [],
   "source": []
  }
 ],
 "metadata": {
  "kernelspec": {
   "display_name": "Python 3 (ipykernel)",
   "language": "python",
   "name": "python3"
  },
  "language_info": {
   "codemirror_mode": {
    "name": "ipython",
    "version": 3
   },
   "file_extension": ".py",
   "mimetype": "text/x-python",
   "name": "python",
   "nbconvert_exporter": "python",
   "pygments_lexer": "ipython3",
   "version": "3.9.7"
  }
 },
 "nbformat": 4,
 "nbformat_minor": 5
}
