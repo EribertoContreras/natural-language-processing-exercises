{
 "cells": [
  {
   "cell_type": "markdown",
   "id": "27a5c1bb",
   "metadata": {},
   "source": [
    "`Exercises`\n",
    "\n",
    "Using the repo setup directions, setup a new local and remote repository named natural-language-processing-exercises. The local version of your repo should live inside of `~/codeup-data-science`. This repo should be named natural-language-processing-exercises\n",
    "\n",
    "Save this work in your `natural-language-processing-exercises` repo. Then add, commit, and push your changes.\n",
    "\n",
    "Unless a specific file extension is specified, you may do your work either in a python script (.py) or a jupyter notebook (.ipynb).\n",
    "\n",
    "Do your work for this exercise in a file named `regex`.\n",
    "\n",
    "1) Write a function named is_vowel. It should accept a string as input and use a regular expression to determine if the passed string is a vowel. While not explicity mentioned in the lesson, you can treat the result of re.search as a boolean value that indicates whether or not the regular expression matches the given string.\n",
    "\n",
    "2) Write a function named is_valid_username that accepts a string as input. A valid username starts with a lowercase letter, and only consists of lowercase letters, numbers, or the _ character. It should also be no longer than 32 characters. The function should return either True or False depending on whether the passed string is a valid username.\n",
    "\n",
    "\n",
    ">>> is_valid_username('aaaaaaaaaaaaaaaaaaaaaaaaaaaaaaaaa')\n",
    "False\n",
    ">>> is_valid_username('codeup')\n",
    "True\n",
    ">>> is_valid_username('Codeup')\n",
    "False\n",
    ">>> is_valid_username('codeup123')\n",
    "True\n",
    ">>> is_valid_username('1codeup')\n",
    "False\n",
    "\n",
    "\n",
    "3) Write a regular expression to capture phone numbers. It should match all of the following:\n",
    "\n",
    "\n",
    "- (210) 867 5309\n",
    "- +1 210.867.5309\n",
    "- 867-5309\n",
    "- 210-867-5309\n",
    "\n",
    "4) Use regular expressions to convert the dates below to the standardized year-month-day format.\n",
    "\n",
    "\n",
    "- 02/04/19\n",
    "- 02/05/19\n",
    "- 02/06/19\n",
    "- 02/07/19\n",
    "- 02/08/19\n",
    "- 02/09/19\n",
    "- 02/10/19\n",
    "\n",
    "\n",
    "5) Write a regex to extract the various parts of these logfile lines:\n",
    "\n",
    "\n",
    "`GET /api/v1/sales?page=86 [16/Apr/2019:193452+0000] HTTP/1.1 {200} 510348 \"python-requests/2.21.0\" 97.105.19.58\n",
    "POST /users_accounts/file-upload [16/Apr/2019:193452+0000] HTTP/1.1 {201} 42 \"User-Agent: Mozilla/5.0 (X11; Fedora; Fedora; Linux x86_64) AppleWebKit/537.36 (KHTML, like Gecko) Chrome/73.0.3683.86 Safari/537.36\" 97.105.19.58\n",
    "GET /api/v1/items?page=3 [16/Apr/2019:193453+0000] HTTP/1.1 {429} 3561 \"python-requests/2.21.0\" 97.105.19.58\n",
    "`\n",
    "\n",
    "You can find a list of words on your mac at /usr/share/dict/words. Use this file to answer the following questions:\n",
    "\n",
    "\n",
    "- How many words have at least 3 vowels?\n",
    "- How many words have at least 3 vowels in a row?\n",
    "- How many words have at least 4 consonants in a row?\n",
    "- How many words start and end with the same letter?\n",
    "- How many words start and end with a vowel?\n",
    "- How many words contain the same letter 3 times in a row?\n",
    "- What other interesting patterns in words can you find?`\n",
    "\n",
    "\n",
    "\n",
    "`Verbose = inplace = true`"
   ]
  },
  {
   "cell_type": "code",
   "execution_count": 1,
   "id": "f9be963c",
   "metadata": {},
   "outputs": [],
   "source": [
    "import re\n",
    "import pandas as pd"
   ]
  },
  {
   "cell_type": "markdown",
   "id": "543b5a4c",
   "metadata": {},
   "source": [
    "`1) Write a function named is_vowel. It should accept a string as input and use a regular expression to determine if the passed string is a vowel. While not explicity mentioned in the lesson, you can treat the result of re.search as a boolean value that indicates whether or not the regular expression matches the given string.`"
   ]
  },
  {
   "cell_type": "code",
   "execution_count": 32,
   "id": "1b032236",
   "metadata": {},
   "outputs": [
    {
     "name": "stdout",
     "output_type": "stream",
     "text": [
      "enter a letter: f\n",
      "f is not a vowel\n"
     ]
    }
   ],
   "source": [
    "def is_vowel():\n",
    "    \"\"\"Should accept a string as input and use a regular expression to determine if the passed string is a vowel\"\"\"\n",
    "    ch = input(\"enter a letter: \")\n",
    "    if re.search(r'[aeiou]', ch,re.IGNORECASE) and len(ch) == 1:\n",
    "        # if it is a vowell: it will return this message\n",
    "        print(ch, \"is a Vowel\") \n",
    "    else:\n",
    "        # if it is not a vowel: it will return this message\n",
    "        print(ch,\"is not a vowel\")\n",
    "    \n",
    "is_vowel()"
   ]
  },
  {
   "cell_type": "markdown",
   "id": "2566a67c",
   "metadata": {},
   "source": [
    "`2) Write a function named is_valid_username that accepts a string as input.`\n",
    "`A valid username starts with a lowercase letter`,\n",
    "and only consists of `lowercase letters`,\n",
    "`numbers`, \n",
    "or `the _ character`\n",
    ". It should also be no longer than 32 characters. The function should return either True or False depending on whether the passed string is a valid username.`\n",
    "\n"
   ]
  },
  {
   "cell_type": "code",
   "execution_count": 9,
   "id": "094d4c39",
   "metadata": {},
   "outputs": [
    {
     "name": "stdout",
     "output_type": "stream",
     "text": [
      "enter a value: bert0234#\n",
      "bert0234# INVALID USERNAME, PLEASE TRY AGAIN\n"
     ]
    }
   ],
   "source": [
    "def is_valid_username():\n",
    "    \"\"\"accepts a string as input. A valid username starts with a lowercase letter, and only consists of lowercase letters,\n",
    "    numbers, or the _ character. It should also be no longer than 32 characters.\"\"\"\n",
    "    ch = input(\"enter a value: \")\n",
    "    if re.search(r'^[a-z][a-zA-Z0-9_]{,31}$',ch):\n",
    "        print(ch, \"USERNAME VALID\")\n",
    "    else:\n",
    "        print(ch, \"INVALID USERNAME, PLEASE TRY AGAIN\")\n",
    "        \n",
    "        \n",
    "is_valid_username()"
   ]
  },
  {
   "cell_type": "markdown",
   "id": "f8f8e8df",
   "metadata": {},
   "source": [
    "`3) Write a regular expression to capture phone numbers. It should match all of the following:`\n",
    "\n",
    "`(210) 867 5309`\n",
    "`+1 210.867.5309`\n",
    "`867-5309`\n",
    "`210-867-5309`"
   ]
  },
  {
   "cell_type": "code",
   "execution_count": 27,
   "id": "701e534f",
   "metadata": {},
   "outputs": [
    {
     "data": {
      "text/html": [
       "<div>\n",
       "<style scoped>\n",
       "    .dataframe tbody tr th:only-of-type {\n",
       "        vertical-align: middle;\n",
       "    }\n",
       "\n",
       "    .dataframe tbody tr th {\n",
       "        vertical-align: top;\n",
       "    }\n",
       "\n",
       "    .dataframe thead th {\n",
       "        text-align: right;\n",
       "    }\n",
       "</style>\n",
       "<table border=\"1\" class=\"dataframe\">\n",
       "  <thead>\n",
       "    <tr style=\"text-align: right;\">\n",
       "      <th></th>\n",
       "      <th>original number</th>\n",
       "      <th>country_code</th>\n",
       "      <th>area_code</th>\n",
       "      <th>exchange_code</th>\n",
       "      <th>last_four</th>\n",
       "    </tr>\n",
       "  </thead>\n",
       "  <tbody>\n",
       "    <tr>\n",
       "      <th>0</th>\n",
       "      <td>(210) 867 5309</td>\n",
       "      <td>NaN</td>\n",
       "      <td>210</td>\n",
       "      <td>867</td>\n",
       "      <td>5309</td>\n",
       "    </tr>\n",
       "    <tr>\n",
       "      <th>1</th>\n",
       "      <td>+1 210.867.5309</td>\n",
       "      <td>+1</td>\n",
       "      <td>210</td>\n",
       "      <td>867</td>\n",
       "      <td>5309</td>\n",
       "    </tr>\n",
       "    <tr>\n",
       "      <th>2</th>\n",
       "      <td>867-5309</td>\n",
       "      <td>NaN</td>\n",
       "      <td>NaN</td>\n",
       "      <td>867</td>\n",
       "      <td>5309</td>\n",
       "    </tr>\n",
       "    <tr>\n",
       "      <th>3</th>\n",
       "      <td>210-867-5309</td>\n",
       "      <td>NaN</td>\n",
       "      <td>210</td>\n",
       "      <td>867</td>\n",
       "      <td>5309</td>\n",
       "    </tr>\n",
       "  </tbody>\n",
       "</table>\n",
       "</div>"
      ],
      "text/plain": [
       "   original number country_code area_code exchange_code last_four\n",
       "0   (210) 867 5309          NaN       210           867      5309\n",
       "1  +1 210.867.5309           +1       210           867      5309\n",
       "2         867-5309          NaN       NaN           867      5309\n",
       "3     210-867-5309          NaN       210           867      5309"
      ]
     },
     "execution_count": 27,
     "metadata": {},
     "output_type": "execute_result"
    }
   ],
   "source": [
    "regex = r'''\n",
    "(?P<country_code>\\+\\d+)?\n",
    "\\D*\n",
    "(?P<area_code>\\d{3})?\n",
    "\\D*\n",
    "(?P<exchange_code>\\d{3})\n",
    "\\D*\n",
    "(?P<last_four>\\d{4})$\n",
    "'''\n",
    "numbers = pd.Series(['(210) 867 5309',\n",
    "                     '+1 210.867.5309',\n",
    "                     '867-5309',\n",
    "                     '210-867-5309'\n",
    "], name = 'original number')\n",
    "         \n",
    "pd.concat([numbers, numbers.str.extract(regex, re.VERBOSE)], axis=1)"
   ]
  },
  {
   "cell_type": "code",
   "execution_count": 40,
   "id": "9c880388",
   "metadata": {},
   "outputs": [
    {
     "name": "stdout",
     "output_type": "stream",
     "text": [
      "enter a phone number: sdijbv\n",
      "sdijbv not a phone number\n"
     ]
    }
   ],
   "source": [
    "def is_phone_number():\n",
    "    ch = input(\"enter a phone number: \")\n",
    "    if re.search(r\"(\\+?\\d+)?.?(\\(?\\d{3}\\)?)?.?\\d{3}.?\\d{4}\", ch):\n",
    "        print(ch,'is a phone number')\n",
    "    else:\n",
    "        print(ch,'not a phone number')\n",
    "        \n",
    "is_phone_number()"
   ]
  },
  {
   "cell_type": "markdown",
   "id": "d2fe51ff",
   "metadata": {},
   "source": [
    "4) Use regular expressions to convert the dates below to the standardized year-month-day format.\n",
    "\n",
    "`02/04/19`\n",
    "`02/05/19`\n",
    "`02/06/19`\n",
    "`02/07/19`\n",
    "`02/08/19`\n",
    "`02/09/19`\n",
    "`02/10/19`"
   ]
  },
  {
   "cell_type": "code",
   "execution_count": 48,
   "id": "a5ab2bf9",
   "metadata": {},
   "outputs": [
    {
     "ename": "SyntaxError",
     "evalue": "invalid syntax (3123883602.py, line 3)",
     "output_type": "error",
     "traceback": [
      "\u001b[0;36m  File \u001b[0;32m\"/var/folders/dc/8rtfvpyj2mb6mqbnfkf5dl400000gn/T/ipykernel_94705/3123883602.py\"\u001b[0;36m, line \u001b[0;32m3\u001b[0m\n\u001b[0;31m    if re.search(r'(\\d{2})/(\\d{2})/(\\d{2})', r'20\\3-\\1\\2', ch):\u001b[0m\n\u001b[0m                                                              ^\u001b[0m\n\u001b[0;31mSyntaxError\u001b[0m\u001b[0;31m:\u001b[0m invalid syntax\n"
     ]
    }
   ],
   "source": [
    "def is_date_format():\n",
    "    ch = input(int(\"enter a date: \")\n",
    "    if re.search(r'(\\d{2})/(\\d{2})/(\\d{2})', r'20\\3-\\1\\2', ch):\n",
    "        return str.replace\n",
    "    else:\n",
    "        print(ch,'not a date')\n",
    "        \n",
    "is_date_format()"
   ]
  },
  {
   "cell_type": "code",
   "execution_count": null,
   "id": "69d653c2",
   "metadata": {},
   "outputs": [],
   "source": []
  }
 ],
 "metadata": {
  "kernelspec": {
   "display_name": "Python 3 (ipykernel)",
   "language": "python",
   "name": "python3"
  },
  "language_info": {
   "codemirror_mode": {
    "name": "ipython",
    "version": 3
   },
   "file_extension": ".py",
   "mimetype": "text/x-python",
   "name": "python",
   "nbconvert_exporter": "python",
   "pygments_lexer": "ipython3",
   "version": "3.9.7"
  }
 },
 "nbformat": 4,
 "nbformat_minor": 5
}
