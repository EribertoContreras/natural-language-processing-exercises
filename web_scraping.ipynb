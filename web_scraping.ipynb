{
 "cells": [
  {
   "cell_type": "markdown",
   "id": "3cfdf789",
   "metadata": {},
   "source": [
    "# Intro to Web Scraping\n",
    "\n",
    "## `Process`\n",
    "- Use `requests` to download the HTML\n",
    "- Use `response.text` property on the `response` object to get the text HTML"
   ]
  },
  {
   "cell_type": "code",
   "execution_count": 1,
   "id": "912e84b7",
   "metadata": {},
   "outputs": [],
   "source": [
    "from requests import get\n",
    "from bs4 import BeautifulSoup\n",
    "import os"
   ]
  },
  {
   "cell_type": "code",
   "execution_count": 2,
   "id": "fe25f6c9",
   "metadata": {},
   "outputs": [],
   "source": [
    "url = \"https://site-to-scrape.glitch.me\""
   ]
  },
  {
   "cell_type": "code",
   "execution_count": 3,
   "id": "e6ea3a8d",
   "metadata": {},
   "outputs": [],
   "source": [
    "headers = {'User-Agent': 'Codeup Data Science'} # Some websites don't accept the pyhon-requests default user-agent\n",
    "response = get(url, headers=headers)"
   ]
  },
  {
   "cell_type": "code",
   "execution_count": 4,
   "id": "572bdd87",
   "metadata": {},
   "outputs": [
    {
     "data": {
      "text/plain": [
       "<Response [200]>"
      ]
     },
     "execution_count": 4,
     "metadata": {},
     "output_type": "execute_result"
    }
   ],
   "source": [
    "response"
   ]
  },
  {
   "cell_type": "code",
   "execution_count": 5,
   "id": "911d4325",
   "metadata": {},
   "outputs": [
    {
     "data": {
      "text/plain": [
       "'<!DOCTYPE html>\\n<html lang=\"en\">\\n  <head>\\n    <title>Site to Scrape!</title>\\n    <meta charset=\"utf-8\">\\n    <meta http-equiv=\"X-UA-Compatible\" content=\"IE=edge\">\\n    <meta name=\"viewport\" content=\"width=device-width, initial-scale=1\">\\n    \\n    <!-- import the webpage\\'s stylesheet -->\\n    <link rel=\"stylesheet\" href=\"/style.css\">\\n    \\n    <!-- import the webpage\\'s javascript file -->\\n    <script src=\"/script.js\" defer></script>\\n  </head>  \\n  <body>\\n    <header>\\n      <h1>This is the header!</h1>\\n      <hr>\\n    </header>\\n    \\n    <main>\\n      <div>\\n        <h1 class=\"first\">\\n        This is the main\\n        </h1>\\n        <h2>\\n          This is an h2 of main\\n        </h2>\\n        <h3>\\n          H3 inside of first div inside of main\\n        </h3>\\n      </div>\\n      <div>\\n        <h3 class=\"first\">\\n          H3 inside of second div inside of main.\\n        </h3>\\n        <p>\\n          Here\\'s some text content for us to scrape! 👽\\n        </p>\\n        <p>\\n          Here\\'s another paragraph of content! ☠️\\n        </p>\\n        <a href=\"https://ryanorsinger.com\">Click here to visit my homepage</a>       \\n      </div>\\n    </main>\\n\\n    <footer>\\n      <h1>This is the footer</h1>\\n      <img src=\"https://traffic-analytics.glitch.me/counter.png?fallback=MY_WEBSITE&color=black\" alt=\"\" style=\"vertical-align: bottom;\" aria-hidden=\"true\">\\n    </footer>\\n\\n  </body>\\n</html>\\n'"
      ]
     },
     "execution_count": 5,
     "metadata": {},
     "output_type": "execute_result"
    }
   ],
   "source": [
    "response.text"
   ]
  },
  {
   "cell_type": "code",
   "execution_count": 6,
   "id": "6d1617c1",
   "metadata": {},
   "outputs": [],
   "source": [
    "# Make a soup variable holding the response content\n",
    "soup = BeautifulSoup(response.content, 'html.parser')"
   ]
  },
  {
   "cell_type": "code",
   "execution_count": 7,
   "id": "e44135c3",
   "metadata": {},
   "outputs": [
    {
     "data": {
      "text/plain": [
       "<title>Site to Scrape!</title>"
      ]
     },
     "execution_count": 7,
     "metadata": {},
     "output_type": "execute_result"
    }
   ],
   "source": [
    "soup.title"
   ]
  },
  {
   "cell_type": "code",
   "execution_count": 8,
   "id": "056a4f0f",
   "metadata": {},
   "outputs": [
    {
     "data": {
      "text/plain": [
       "<h1>This is the header!</h1>"
      ]
     },
     "execution_count": 8,
     "metadata": {},
     "output_type": "execute_result"
    }
   ],
   "source": [
    "soup.h1"
   ]
  },
  {
   "cell_type": "code",
   "execution_count": 9,
   "id": "4ee50905",
   "metadata": {},
   "outputs": [
    {
     "data": {
      "text/plain": [
       "<h2>\n",
       "          This is an h2 of main\n",
       "        </h2>"
      ]
     },
     "execution_count": 9,
     "metadata": {},
     "output_type": "execute_result"
    }
   ],
   "source": [
    "# returns the first match only with this dot syntax\n",
    "soup.h2"
   ]
  },
  {
   "cell_type": "code",
   "execution_count": 11,
   "id": "44e53039",
   "metadata": {},
   "outputs": [
    {
     "data": {
      "text/plain": [
       "'\\n          This is an h2 of main\\n        '"
      ]
     },
     "execution_count": 11,
     "metadata": {},
     "output_type": "execute_result"
    }
   ],
   "source": [
    "soup.h2.text"
   ]
  },
  {
   "cell_type": "code",
   "execution_count": 12,
   "id": "c2f6c82c",
   "metadata": {},
   "outputs": [
    {
     "data": {
      "text/plain": [
       "'This is an h2 of main'"
      ]
     },
     "execution_count": 12,
     "metadata": {},
     "output_type": "execute_result"
    }
   ],
   "source": [
    "soup.h2.text.strip()"
   ]
  },
  {
   "cell_type": "code",
   "execution_count": 14,
   "id": "c8666b48",
   "metadata": {},
   "outputs": [
    {
     "data": {
      "text/plain": [
       "' main'"
      ]
     },
     "execution_count": 14,
     "metadata": {},
     "output_type": "execute_result"
    }
   ],
   "source": [
    "soup.h2.text.strip()[-5:]"
   ]
  },
  {
   "cell_type": "code",
   "execution_count": 15,
   "id": "5a7806ed",
   "metadata": {},
   "outputs": [
    {
     "data": {
      "text/plain": [
       "bs4.element.Tag"
      ]
     },
     "execution_count": 15,
     "metadata": {},
     "output_type": "execute_result"
    }
   ],
   "source": [
    "type(soup.find_all('h3')[0])"
   ]
  },
  {
   "cell_type": "code",
   "execution_count": 16,
   "id": "01051e0d",
   "metadata": {},
   "outputs": [
    {
     "data": {
      "text/plain": [
       "<h3>\n",
       "          H3 inside of first div inside of main\n",
       "        </h3>"
      ]
     },
     "execution_count": 16,
     "metadata": {},
     "output_type": "execute_result"
    }
   ],
   "source": [
    "soup.find_all(\"h3\")[0]"
   ]
  },
  {
   "cell_type": "code",
   "execution_count": 17,
   "id": "bde7b987",
   "metadata": {},
   "outputs": [
    {
     "data": {
      "text/plain": [
       "'\\n          H3 inside of first div inside of main\\n        '"
      ]
     },
     "execution_count": 17,
     "metadata": {},
     "output_type": "execute_result"
    }
   ],
   "source": [
    "soup.find_all(\"h3\")[0].text"
   ]
  },
  {
   "cell_type": "code",
   "execution_count": 18,
   "id": "f1a36911",
   "metadata": {},
   "outputs": [
    {
     "data": {
      "text/plain": [
       "\"\\n\\n\\nSite to Scrape!\\n\\n\\n\\n\\n\\n\\n\\n\\n\\n\\nThis is the header!\\n\\n\\n\\n\\n\\n        This is the main\\n        \\n\\n          This is an h2 of main\\n        \\n\\n          H3 inside of first div inside of main\\n        \\n\\n\\n\\n          H3 inside of second div inside of main.\\n        \\n\\n          Here's some text content for us to scrape! 👽\\n        \\n\\n          Here's another paragraph of content! ☠️\\n        \\nClick here to visit my homepage\\n\\n\\n\\nThis is the footer\\n\\n\\n\\n\\n\""
      ]
     },
     "execution_count": 18,
     "metadata": {},
     "output_type": "execute_result"
    }
   ],
   "source": [
    "soup.text"
   ]
  },
  {
   "cell_type": "code",
   "execution_count": 19,
   "id": "8e0ccc50",
   "metadata": {},
   "outputs": [
    {
     "data": {
      "text/plain": [
       "['html',\n",
       " '\\n',\n",
       " <html lang=\"en\">\n",
       " <head>\n",
       " <title>Site to Scrape!</title>\n",
       " <meta charset=\"utf-8\"/>\n",
       " <meta content=\"IE=edge\" http-equiv=\"X-UA-Compatible\"/>\n",
       " <meta content=\"width=device-width, initial-scale=1\" name=\"viewport\"/>\n",
       " <!-- import the webpage's stylesheet -->\n",
       " <link href=\"/style.css\" rel=\"stylesheet\"/>\n",
       " <!-- import the webpage's javascript file -->\n",
       " <script defer=\"\" src=\"/script.js\"></script>\n",
       " </head>\n",
       " <body>\n",
       " <header>\n",
       " <h1>This is the header!</h1>\n",
       " <hr/>\n",
       " </header>\n",
       " <main>\n",
       " <div>\n",
       " <h1 class=\"first\">\n",
       "         This is the main\n",
       "         </h1>\n",
       " <h2>\n",
       "           This is an h2 of main\n",
       "         </h2>\n",
       " <h3>\n",
       "           H3 inside of first div inside of main\n",
       "         </h3>\n",
       " </div>\n",
       " <div>\n",
       " <h3 class=\"first\">\n",
       "           H3 inside of second div inside of main.\n",
       "         </h3>\n",
       " <p>\n",
       "           Here's some text content for us to scrape! 👽\n",
       "         </p>\n",
       " <p>\n",
       "           Here's another paragraph of content! ☠️\n",
       "         </p>\n",
       " <a href=\"https://ryanorsinger.com\">Click here to visit my homepage</a>\n",
       " </div>\n",
       " </main>\n",
       " <footer>\n",
       " <h1>This is the footer</h1>\n",
       " <img alt=\"\" aria-hidden=\"true\" src=\"https://traffic-analytics.glitch.me/counter.png?fallback=MY_WEBSITE&amp;color=black\" style=\"vertical-align: bottom;\"/>\n",
       " </footer>\n",
       " </body>\n",
       " </html>,\n",
       " '\\n']"
      ]
     },
     "execution_count": 19,
     "metadata": {},
     "output_type": "execute_result"
    }
   ],
   "source": [
    "list(soup.children)"
   ]
  },
  {
   "cell_type": "markdown",
   "id": "836697ff",
   "metadata": {},
   "source": [
    "## Beautiful Soup Methods and Properties\n",
    "\n",
    "- soup.title.string gets the page's title (the same text in the browser tab for a page, this is the `<title>` element.\n",
    "- `soup.prettify()` is useful to print in case you want to see the HTML\n",
    "- `soup.find_all(\"a\")` find all the anchor tags, or whatever argument is specified.\n",
    "- `soup.find(\"h1\")` finds the first matching element\n",
    "- `soup.get_text()` gets the text from within a matching piece of soup/HTML\n",
    "- The `soup.select()` method takes in a CSS selector as a string and returns all matching elements. super useful"
   ]
  },
  {
   "cell_type": "code",
   "execution_count": null,
   "id": "b560963c",
   "metadata": {},
   "outputs": [],
   "source": []
  }
 ],
 "metadata": {
  "kernelspec": {
   "display_name": "Python 3 (ipykernel)",
   "language": "python",
   "name": "python3"
  },
  "language_info": {
   "codemirror_mode": {
    "name": "ipython",
    "version": 3
   },
   "file_extension": ".py",
   "mimetype": "text/x-python",
   "name": "python",
   "nbconvert_exporter": "python",
   "pygments_lexer": "ipython3",
   "version": "3.9.7"
  }
 },
 "nbformat": 4,
 "nbformat_minor": 5
}
